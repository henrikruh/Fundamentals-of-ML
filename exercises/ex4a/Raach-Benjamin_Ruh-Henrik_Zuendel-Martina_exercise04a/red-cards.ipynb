{
 "cells": [
  {
   "cell_type": "markdown",
   "metadata": {},
   "source": [
    "# 3 Red Cards Study"
   ]
  },
  {
   "cell_type": "code",
   "execution_count": 1,
   "metadata": {},
   "outputs": [],
   "source": [
    "# imports\n",
    "import sklearn\n",
    "from sklearn.datasets import load_digits \n",
    "from sklearn.model_selection import train_test_split, cross_val_score\n",
    "from sklearn import model_selection\n",
    "import numpy as np\n",
    "import matplotlib.pyplot as plt\n",
    "import matplotlib as mpl\n",
    "import pandas as pd\n",
    "import os"
   ]
  },
  {
   "cell_type": "markdown",
   "metadata": {},
   "source": [
    "## 3.1 Loading and Cleaning the Data"
   ]
  },
  {
   "cell_type": "code",
   "execution_count": 2,
   "metadata": {},
   "outputs": [
    {
     "name": "stdout",
     "output_type": "stream",
     "text": [
      "data\\CrowdstormingDataJuly1st.csv\n",
      "Index(['playerShort', 'player', 'club', 'leagueCountry', 'birthday', 'height',\n",
      "       'weight', 'position', 'games', 'victories', 'ties', 'defeats', 'goals',\n",
      "       'yellowCards', 'yellowReds', 'redCards', 'photoID', 'rater1', 'rater2',\n",
      "       'refNum', 'refCountry', 'Alpha_3', 'meanIAT', 'nIAT', 'seIAT',\n",
      "       'meanExp', 'nExp', 'seExp'],\n",
      "      dtype='object')\n",
      "<bound method DataFrame.info of                   playerShort                 player                  club  \\\n",
      "0               lucas-wilchez          Lucas Wilchez         Real Zaragoza   \n",
      "1                  john-utaka             John Utaka       Montpellier HSC   \n",
      "2                 abdon-prats            Abdón Prats          RCD Mallorca   \n",
      "3                  pablo-mari             Pablo Marí          RCD Mallorca   \n",
      "4                  ruben-pena             Rubén Peña       Real Valladolid   \n",
      "5                aaron-hughes           Aaron Hughes             Fulham FC   \n",
      "6          aleksandar-kolarov     Aleksandar Kolarov       Manchester City   \n",
      "7            alexander-tettey       Alexander Tettey          Norwich City   \n",
      "8           anders-lindegaard      Anders Lindegaard     Manchester United   \n",
      "9                andreas-beck           Andreas Beck       1899 Hoffenheim   \n",
      "10           antonio-rukavina       Antonio Rukavina       Real Valladolid   \n",
      "11             ashkan-dejagah         Ashkan Dejagah             Fulham FC   \n",
      "12          benedikt-hoewedes       Benedikt Höwedes         FC Schalke 04   \n",
      "13                chris-baird            Chris Baird             Fulham FC   \n",
      "14                chris-brunt            Chris Brunt  West Bromwich Albion   \n",
      "15             daniel-schwaab         Daniel Schwaab      Bayer Leverkusen   \n",
      "16                dennis-aogo            Dennis Aogo          Hamburger SV   \n",
      "17           george-mccartney       George McCartney       West Ham United   \n",
      "18           gylfi-sigurdsson       Gylfi Sigurðsson     Tottenham Hotspur   \n",
      "19             ivan-obradovic         Ivan Obradović         Real Zaragoza   \n",
      "20                jan-moravek            Jan Morávek           FC Augsburg   \n",
      "21              jan-rosenthal          Jan Rosenthal           SC Freiburg   \n",
      "22                jonny-evans            Jonny Evans     Manchester United   \n",
      "23      kyriakos-papadopoulos  Kyriakos Papadopoulos         FC Schalke 04   \n",
      "24                marko-marin            Marko Marin            Chelsea FC   \n",
      "25               mats-hummels           Mats Hummels     Borussia Dortmund   \n",
      "26                mesut-oezil             Mesut Özil           Real Madrid   \n",
      "27            milorad-pekovic        Milorad Peković  SpVgg Greuther Fürth   \n",
      "28              nemanja-vidic          Nemanja Vidić     Manchester United   \n",
      "29              neven-subotic          Neven Subotić     Borussia Dortmund   \n",
      "...                       ...                    ...                   ...   \n",
      "145998        mohamed-sissoko        Mohamed Sissoko   Paris Saint-Germain   \n",
      "145999                   nani                   Nani     Manchester United   \n",
      "146000           nedum-onuoha           Nedum Onuoha   Queens Park Rangers   \n",
      "146001          nelson-valdez          Nelson Valdez           Valencia CF   \n",
      "146002     nemanja-pejcinovic     Nemanja Pejčinović              OGC Nice   \n",
      "146003        nikos-karabelas        Nikos Karabelas            Levante UD   \n",
      "146004        obafemi-martins        Obafemi Martins            Levante UD   \n",
      "146005              petr-cech              Petr Čech            Chelsea FC   \n",
      "146006      radoslav-zabavnik      Radoslav Zabavník       1. FSV Mainz 05   \n",
      "146007   rafael-van-der-vaart   Rafael van der Vaart          Hamburger SV   \n",
      "146008         ricardo-vaz-te         Ricardo Vaz Tê       West Ham United   \n",
      "146009          richard-dunne          Richard Dunne           Aston Villa   \n",
      "146010       robin-van-persie       Robin van Persie     Manchester United   \n",
      "146011          romelu-lukaku          Romelu Lukaku  West Bromwich Albion   \n",
      "146012      sebastian-larsson      Sebastian Larsson        Sunderland AFC   \n",
      "146013       sebastian-proedl        Sebastian Prödl         Werder Bremen   \n",
      "146014          shaun-maloney          Shaun Maloney        Wigan Athletic   \n",
      "146015  shaun-wright-phillips  Shaun Wright-Phillips   Queens Park Rangers   \n",
      "146016             shay-given             Shay Given           Aston Villa   \n",
      "146017           shola-ameobi           Shola Ameobi      Newcastle United   \n",
      "146018      slobodan-rajkovic      Slobodan Rajković          Hamburger SV   \n",
      "146019          steven-taylor          Steven Taylor      Newcastle United   \n",
      "146020           timmy-simons           Timmy Simons        1. FC Nürnberg   \n",
      "146021          titus-bramble          Titus Bramble        Sunderland AFC   \n",
      "146022        tom-huddlestone        Tom Huddlestone     Tottenham Hotspur   \n",
      "146023          tomas-rosicky          Tomáš Rosický            Arsenal FC   \n",
      "146024           winston-reid           Winston Reid       West Ham United   \n",
      "146025        xherdan-shaqiri        Xherdan Shaqiri        Bayern München   \n",
      "146026    yassine-el-ghanassi    Yassine El Ghanassi  West Bromwich Albion   \n",
      "146027           zdenk-pospch         Zdeněk Pospěch       1. FSV Mainz 05   \n",
      "\n",
      "       leagueCountry    birthday  height  weight              position  games  \\\n",
      "0              Spain  31.08.1983   177.0    72.0  Attacking Midfielder      1   \n",
      "1             France  08.01.1982   179.0    82.0          Right Winger      1   \n",
      "2              Spain  17.12.1992   181.0    79.0                   NaN      1   \n",
      "3              Spain  31.08.1993   191.0    87.0           Center Back      1   \n",
      "4              Spain  18.07.1991   172.0    70.0      Right Midfielder      1   \n",
      "5            England  08.11.1979   182.0    71.0           Center Back      1   \n",
      "6            England  10.11.1985   187.0    80.0         Left Fullback      1   \n",
      "7            England  04.04.1986   180.0    68.0  Defensive Midfielder      1   \n",
      "8            England  13.04.1984   193.0    80.0            Goalkeeper      1   \n",
      "9            Germany  13.03.1987   180.0    70.0        Right Fullback      1   \n",
      "10             Spain  26.01.1984   177.0    74.0        Right Fullback      2   \n",
      "11           England  05.07.1986   181.0    74.0           Left Winger      1   \n",
      "12           Germany  29.02.1988   187.0    80.0           Center Back      1   \n",
      "13           England  25.02.1982   186.0    77.0  Defensive Midfielder      1   \n",
      "14           England  14.12.1984   185.0    74.0                   NaN      1   \n",
      "15           Germany  23.08.1988   186.0    76.0        Right Fullback      1   \n",
      "16           Germany  14.01.1987   184.0    85.0         Left Fullback      1   \n",
      "17           England  29.04.1981   180.0    74.0         Left Fullback      1   \n",
      "18           England  08.09.1989   186.0    77.0  Attacking Midfielder      1   \n",
      "19             Spain  25.07.1988   181.0    74.0         Left Fullback      1   \n",
      "20           Germany  01.11.1989   180.0    75.0  Attacking Midfielder      1   \n",
      "21           Germany  07.04.1986   186.0    76.0  Attacking Midfielder      1   \n",
      "22           England  02.01.1988   188.0    77.0           Center Back      1   \n",
      "23           Germany  23.02.1992   183.0    85.0           Center Back      1   \n",
      "24           England  13.03.1989   170.0    63.0  Attacking Midfielder      1   \n",
      "25           Germany  16.12.1988   192.0    90.0           Center Back      1   \n",
      "26             Spain  15.10.1988   183.0    76.0  Attacking Midfielder      1   \n",
      "27           Germany  05.08.1977   189.0    88.0  Defensive Midfielder      1   \n",
      "28           England  21.10.1981   188.0    82.0           Center Back      2   \n",
      "29           Germany  10.12.1988   193.0    88.0           Center Back      2   \n",
      "...              ...         ...     ...     ...                   ...    ...   \n",
      "145998        France  22.01.1985   191.0    81.0  Defensive Midfielder      1   \n",
      "145999       England  17.11.1986   175.0    66.0          Right Winger      1   \n",
      "146000       England  12.11.1986   183.0    78.0           Center Back      1   \n",
      "146001         Spain  28.11.1983   178.0    73.0        Center Forward      1   \n",
      "146002        France  04.11.1987   185.0    84.0           Center Back      1   \n",
      "146003         Spain  20.12.1984   180.0    72.0         Left Fullback      1   \n",
      "146004         Spain  28.10.1984   176.0    67.0        Center Forward      1   \n",
      "146005       England  20.05.1982   197.0    87.0            Goalkeeper      1   \n",
      "146006       Germany  16.09.1980   180.0    78.0         Left Fullback      1   \n",
      "146007       Germany  11.02.1983   176.0    74.0  Attacking Midfielder      1   \n",
      "146008       England  01.10.1986   188.0    79.0           Left Winger      1   \n",
      "146009       England  21.09.1979   188.0    95.0           Center Back      3   \n",
      "146010       England  06.08.1983   183.0    71.0          Right Winger      1   \n",
      "146011       England  13.05.1993   193.0    95.0        Center Forward      1   \n",
      "146012       England  06.06.1985   178.0    70.0      Right Midfielder      1   \n",
      "146013       Germany  21.06.1987   194.0    85.0           Center Back      1   \n",
      "146014       England  24.01.1983   173.0    69.0       Left Midfielder      2   \n",
      "146015       England  25.10.1981   168.0    64.0          Right Winger      1   \n",
      "146016       England  20.04.1976   188.0    84.0            Goalkeeper      3   \n",
      "146017       England  12.10.1981   191.0    84.0                   NaN      1   \n",
      "146018       Germany  03.02.1989   191.0    88.0           Center Back      1   \n",
      "146019       England  23.01.1986   188.0    81.0                   NaN      1   \n",
      "146020       Germany  11.12.1976   186.0    79.0  Defensive Midfielder      1   \n",
      "146021       England  21.07.1981   187.0    87.0           Center Back      1   \n",
      "146022       England  28.12.1986   188.0    80.0  Defensive Midfielder      1   \n",
      "146023       England  04.10.1980   178.0    67.0  Attacking Midfielder      1   \n",
      "146024       England  03.07.1988   190.0    87.0           Center Back      1   \n",
      "146025       Germany  10.10.1991   169.0    72.0       Left Midfielder      1   \n",
      "146026       England  12.07.1990   173.0     NaN           Left Winger      1   \n",
      "146027       Germany  14.12.1978   174.0    72.0        Right Fullback      1   \n",
      "\n",
      "        victories    ...     rater2  refNum  refCountry  Alpha_3   meanIAT  \\\n",
      "0               0    ...       0.50       1           1      GRC  0.326391   \n",
      "1               0    ...       0.75       2           2      ZMB  0.203375   \n",
      "2               0    ...        NaN       3           3      ESP  0.369894   \n",
      "3               1    ...        NaN       3           3      ESP  0.369894   \n",
      "4               1    ...        NaN       3           3      ESP  0.369894   \n",
      "5               0    ...       0.00       4           4      LUX  0.325185   \n",
      "6               1    ...       0.25       4           4      LUX  0.325185   \n",
      "7               0    ...       1.00       4           4      LUX  0.325185   \n",
      "8               0    ...       0.25       4           4      LUX  0.325185   \n",
      "9               1    ...       0.00       4           4      LUX  0.325185   \n",
      "10              2    ...       0.00       4           4      LUX  0.325185   \n",
      "11              1    ...       0.50       4           4      LUX  0.325185   \n",
      "12              1    ...       0.00       4           4      LUX  0.325185   \n",
      "13              0    ...       0.00       4           4      LUX  0.325185   \n",
      "14              0    ...       0.25       4           4      LUX  0.325185   \n",
      "15              1    ...       0.00       4           4      LUX  0.325185   \n",
      "16              1    ...       0.50       4           4      LUX  0.325185   \n",
      "17              0    ...       0.00       4           4      LUX  0.325185   \n",
      "18              0    ...       0.00       4           4      LUX  0.325185   \n",
      "19              1    ...       0.25       4           4      LUX  0.325185   \n",
      "20              0    ...       0.25       4           4      LUX  0.325185   \n",
      "21              1    ...       0.00       4           4      LUX  0.325185   \n",
      "22              0    ...       0.00       4           4      LUX  0.325185   \n",
      "23              0    ...       0.00       4           4      LUX  0.325185   \n",
      "24              1    ...       0.00       4           4      LUX  0.325185   \n",
      "25              1    ...       0.25       4           4      LUX  0.325185   \n",
      "26              1    ...       0.25       4           4      LUX  0.325185   \n",
      "27              1    ...       0.25       4           4      LUX  0.325185   \n",
      "28              2    ...       0.00       4           4      LUX  0.325185   \n",
      "29              2    ...       0.25       4           4      LUX  0.325185   \n",
      "...           ...    ...        ...     ...         ...      ...       ...   \n",
      "145998          0    ...       1.00    3147          21      HUN  0.376127   \n",
      "145999          1    ...       0.50    3147          21      HUN  0.376127   \n",
      "146000          0    ...       0.75    3147          21      HUN  0.376127   \n",
      "146001          1    ...       0.25    3147          21      HUN  0.376127   \n",
      "146002          1    ...       0.25    3147          21      HUN  0.376127   \n",
      "146003          0    ...       0.00    3147          21      HUN  0.376127   \n",
      "146004          1    ...       1.00    3147          21      HUN  0.376127   \n",
      "146005          1    ...       0.25    3147          21      HUN  0.376127   \n",
      "146006          0    ...       0.25    3147          21      HUN  0.376127   \n",
      "146007          1    ...       0.25    3147          21      HUN  0.376127   \n",
      "146008          1    ...       0.75    3147          21      HUN  0.376127   \n",
      "146009          3    ...       0.00    3147          21      HUN  0.376127   \n",
      "146010          1    ...       0.25    3147          21      HUN  0.376127   \n",
      "146011          1    ...       0.75    3147          21      HUN  0.376127   \n",
      "146012          0    ...       0.00    3147          21      HUN  0.376127   \n",
      "146013          0    ...       0.25    3147          21      HUN  0.376127   \n",
      "146014          1    ...       0.25    3147          21      HUN  0.376127   \n",
      "146015          1    ...       1.00    3147          21      HUN  0.376127   \n",
      "146016          3    ...       0.00    3147          21      HUN  0.376127   \n",
      "146017          1    ...       1.00    3147          21      HUN  0.376127   \n",
      "146018          1    ...       0.00    3147          21      HUN  0.376127   \n",
      "146019          1    ...       0.25    3147          21      HUN  0.376127   \n",
      "146020          1    ...       0.00    3147          21      HUN  0.376127   \n",
      "146021          1    ...       1.00    3147          21      HUN  0.376127   \n",
      "146022          0    ...       0.50    3147          21      HUN  0.376127   \n",
      "146023          1    ...       0.00    3147          21      HUN  0.376127   \n",
      "146024          0    ...       0.50    3147          21      HUN  0.376127   \n",
      "146025          1    ...       0.25    3147          21      HUN  0.376127   \n",
      "146026          0    ...       0.50    3147          21      HUN  0.376127   \n",
      "146027          0    ...       0.25    3147          21      HUN  0.376127   \n",
      "\n",
      "          nIAT     seIAT   meanExp    nExp     seExp  \n",
      "0        712.0  0.000564  0.396000   750.0  0.002696  \n",
      "1         40.0  0.010875 -0.204082    49.0  0.061504  \n",
      "2       1785.0  0.000229  0.588297  1897.0  0.001002  \n",
      "3       1785.0  0.000229  0.588297  1897.0  0.001002  \n",
      "4       1785.0  0.000229  0.588297  1897.0  0.001002  \n",
      "5        127.0  0.003297  0.538462   130.0  0.013752  \n",
      "6        127.0  0.003297  0.538462   130.0  0.013752  \n",
      "7        127.0  0.003297  0.538462   130.0  0.013752  \n",
      "8        127.0  0.003297  0.538462   130.0  0.013752  \n",
      "9        127.0  0.003297  0.538462   130.0  0.013752  \n",
      "10       127.0  0.003297  0.538462   130.0  0.013752  \n",
      "11       127.0  0.003297  0.538462   130.0  0.013752  \n",
      "12       127.0  0.003297  0.538462   130.0  0.013752  \n",
      "13       127.0  0.003297  0.538462   130.0  0.013752  \n",
      "14       127.0  0.003297  0.538462   130.0  0.013752  \n",
      "15       127.0  0.003297  0.538462   130.0  0.013752  \n",
      "16       127.0  0.003297  0.538462   130.0  0.013752  \n",
      "17       127.0  0.003297  0.538462   130.0  0.013752  \n",
      "18       127.0  0.003297  0.538462   130.0  0.013752  \n",
      "19       127.0  0.003297  0.538462   130.0  0.013752  \n",
      "20       127.0  0.003297  0.538462   130.0  0.013752  \n",
      "21       127.0  0.003297  0.538462   130.0  0.013752  \n",
      "22       127.0  0.003297  0.538462   130.0  0.013752  \n",
      "23       127.0  0.003297  0.538462   130.0  0.013752  \n",
      "24       127.0  0.003297  0.538462   130.0  0.013752  \n",
      "25       127.0  0.003297  0.538462   130.0  0.013752  \n",
      "26       127.0  0.003297  0.538462   130.0  0.013752  \n",
      "27       127.0  0.003297  0.538462   130.0  0.013752  \n",
      "28       127.0  0.003297  0.538462   130.0  0.013752  \n",
      "29       127.0  0.003297  0.538462   130.0  0.013752  \n",
      "...        ...       ...       ...     ...       ...  \n",
      "145998   574.0  0.000714  0.498350   606.0  0.002968  \n",
      "145999   574.0  0.000714  0.498350   606.0  0.002968  \n",
      "146000   574.0  0.000714  0.498350   606.0  0.002968  \n",
      "146001   574.0  0.000714  0.498350   606.0  0.002968  \n",
      "146002   574.0  0.000714  0.498350   606.0  0.002968  \n",
      "146003   574.0  0.000714  0.498350   606.0  0.002968  \n",
      "146004   574.0  0.000714  0.498350   606.0  0.002968  \n",
      "146005   574.0  0.000714  0.498350   606.0  0.002968  \n",
      "146006   574.0  0.000714  0.498350   606.0  0.002968  \n",
      "146007   574.0  0.000714  0.498350   606.0  0.002968  \n",
      "146008   574.0  0.000714  0.498350   606.0  0.002968  \n",
      "146009   574.0  0.000714  0.498350   606.0  0.002968  \n",
      "146010   574.0  0.000714  0.498350   606.0  0.002968  \n",
      "146011   574.0  0.000714  0.498350   606.0  0.002968  \n",
      "146012   574.0  0.000714  0.498350   606.0  0.002968  \n",
      "146013   574.0  0.000714  0.498350   606.0  0.002968  \n",
      "146014   574.0  0.000714  0.498350   606.0  0.002968  \n",
      "146015   574.0  0.000714  0.498350   606.0  0.002968  \n",
      "146016   574.0  0.000714  0.498350   606.0  0.002968  \n",
      "146017   574.0  0.000714  0.498350   606.0  0.002968  \n",
      "146018   574.0  0.000714  0.498350   606.0  0.002968  \n",
      "146019   574.0  0.000714  0.498350   606.0  0.002968  \n",
      "146020   574.0  0.000714  0.498350   606.0  0.002968  \n",
      "146021   574.0  0.000714  0.498350   606.0  0.002968  \n",
      "146022   574.0  0.000714  0.498350   606.0  0.002968  \n",
      "146023   574.0  0.000714  0.498350   606.0  0.002968  \n",
      "146024   574.0  0.000714  0.498350   606.0  0.002968  \n",
      "146025   574.0  0.000714  0.498350   606.0  0.002968  \n",
      "146026   574.0  0.000714  0.498350   606.0  0.002968  \n",
      "146027   574.0  0.000714  0.498350   606.0  0.002968  \n",
      "\n",
      "[146028 rows x 28 columns]>\n"
     ]
    }
   ],
   "source": [
    "# load data\n",
    "filename = 'data\\CrowdstormingDataJuly1st.csv'\n",
    "print(filename)\n",
    "df = pd.read_csv(filename)\n",
    "print(df.columns)\n",
    "print(df.info)"
   ]
  },
  {
   "cell_type": "code",
   "execution_count": 3,
   "metadata": {},
   "outputs": [
    {
     "data": {
      "text/plain": [
       "26       4\n",
       "1051    66\n",
       "1773    72\n",
       "2852    88\n",
       "Name: refNum, dtype: int64"
      ]
     },
     "execution_count": 3,
     "metadata": {},
     "output_type": "execute_result"
    }
   ],
   "source": [
    "# test data access\n",
    "df[df['playerShort']=='mesut-oezil']['refNum'][:4] # all referees in games with mesut oezil"
   ]
  },
  {
   "cell_type": "code",
   "execution_count": 4,
   "metadata": {},
   "outputs": [],
   "source": [
    "# data cleaning\n",
    "\n",
    "# drop players without skin color rating\n",
    "df = df.dropna(subset=['rater1','rater2'])"
   ]
  },
  {
   "cell_type": "code",
   "execution_count": 5,
   "metadata": {},
   "outputs": [
    {
     "data": {
      "text/plain": [
       "Text(0.5, 1.0, 'Frequent referees')"
      ]
     },
     "execution_count": 5,
     "metadata": {},
     "output_type": "execute_result"
    },
    {
     "data": {
      "image/png": "[encoded data removed]",
      "text/plain": [
       "<Figure size 432x288 with 1 Axes>"
      ]
     },
     "metadata": {},
     "output_type": "display_data"
    }
   ],
   "source": [
    "# plot referee occurencies\n",
    "refnum_unique = np.unique(df['refNum'],return_counts=True,return_index=True)\n",
    "plt.hist(refnum_unique[2],bins=np.arange(100)*5)\n",
    "plt.xlim(0,50)\n",
    "plt.xlabel('number of occurencies')\n",
    "plt.ylabel('# of referees')\n",
    "plt.title('Frequent referees')"
   ]
  },
  {
   "cell_type": "markdown",
   "metadata": {},
   "source": [
    "There is a large number of referees, who appear less then ten times in the data set. This is especially troubeling as we would expect a referee who leads one game in the one of the studied leagues to appear at least 22 times - one time in combination with each player of the two teams. We thus exclude all referees with less than 22 occurencies."
   ]
  },
  {
   "cell_type": "code",
   "execution_count": 6,
   "metadata": {},
   "outputs": [],
   "source": [
    "#exclude referees with less than 22 occurencies\n",
    "\n",
    "df = df[[rn not in refnum_unique[0][np.where(refnum_unique[2]<22)[0]] for rn in df['refNum']]]"
   ]
  },
  {
   "cell_type": "code",
   "execution_count": 7,
   "metadata": {},
   "outputs": [],
   "source": [
    "# new features\n",
    "players,players_id = np.unique(df['playerShort'],return_index=True)\n",
    "occurencies = [[df['playerShort']==player] for player in players]\n",
    "dfage = 2013 - np.array([int(b[-4:]) for b in df['birthday'].values]) # age at the end of the season in years\n",
    "age = dfage[np.unique(df['playerShort'],return_index=True)[1]]\n",
    "totalRedCards = np.array([np.sum(df[occ[0]]['redCards']) for occ in occurencies])\n",
    "totalGames =   np.array([np.sum(df[occ[0]]['games']) for occ in occurencies])\n",
    "averageRedCards = totalRedCards/totalGames\n",
    "\n",
    "# add further features from original df\n",
    "leagueCountry = df.iloc[players_id]['leagueCountry']\n",
    "position = df.iloc[players_id]['position']\n",
    "\n",
    "b2i = lambda barr: [np.int(b) for b in barr]\n",
    "\n",
    "league_eng = b2i(np.array([leagueCountry=='England'][0]))\n",
    "league_ger =  b2i(np.array([leagueCountry=='Germany'][0]))\n",
    "league_fra =  b2i(np.array([leagueCountry=='France'][0]))\n",
    "league_spa =  b2i(np.array([leagueCountry=='Spain'][0]))\n",
    "\n",
    "pos_back =  b2i(['Back' in str(pos) or 'back' in str(pos) for pos in position])\n",
    "pos_keep =  b2i(['keeper' in str(pos) for pos in position])\n",
    "pos_mid =  b2i(['Midfield' in str(pos) for pos in position])\n",
    "pos_for =  b2i(['Forward' in str(pos)for pos in position])\n",
    "pos_wing =  b2i(['Winger' in str(pos) for pos in position])"
   ]
  },
  {
   "cell_type": "markdown",
   "metadata": {},
   "source": [
    "### Data Visualisation"
   ]
  },
  {
   "cell_type": "code",
   "execution_count": 8,
   "metadata": {},
   "outputs": [
    {
     "data": {
      "text/plain": [
       "Text(0, 0.5, 'red cards per game')"
      ]
     },
     "execution_count": 8,
     "metadata": {},
     "output_type": "execute_result"
    },
    {
     "data": {
      "image/png": "[encoded data removed]",
      "text/plain": [
       "<Figure size 432x288 with 1 Axes>"
      ]
     },
     "metadata": {},
     "output_type": "display_data"
    }
   ],
   "source": [
    "plt.scatter(age,averageRedCards)\n",
    "plt.xlabel('age')\n",
    "plt.yscale('log')\n",
    "plt.ylim(1e-3,0.2)\n",
    "plt.ylabel('red cards per game')"
   ]
  },
  {
   "cell_type": "code",
   "execution_count": 9,
   "metadata": {},
   "outputs": [
    {
     "data": {
      "text/plain": [
       "Text(0.5, 1.0, 'skin color ratings')"
      ]
     },
     "execution_count": 9,
     "metadata": {},
     "output_type": "execute_result"
    },
    {
     "data": {
      "image/png": "[encoded data removed]",
      "text/plain": [
       "<Figure size 432x288 with 1 Axes>"
      ]
     },
     "metadata": {},
     "output_type": "display_data"
    }
   ],
   "source": [
    "# visualise skin color ratings\n",
    "\n",
    "# rater 1\n",
    "rat1 = df.iloc[np.unique(df['playerShort'],return_index=True)[1]]['rater1']\n",
    "\n",
    "# rater 2\n",
    "rat2 = df.iloc[np.unique(df['playerShort'],return_index=True)[1]]['rater2']\n",
    "\n",
    "plt.hist([rat1,rat2],bins=5)\n",
    "plt.legend(['rater 1','rater 2'])\n",
    "plt.xlabel('rating')\n",
    "plt.ylabel('# players')\n",
    "plt.title('skin color ratings')"
   ]
  },
  {
   "cell_type": "markdown",
   "metadata": {},
   "source": [
    "We observe that the raters asign different numbers of players to the skin color classes. There are also much more players with very light or light skin color than players with dark or very dark skin color. "
   ]
  },
  {
   "cell_type": "markdown",
   "metadata": {},
   "source": [
    "Rater 2 assignes lighter skin color more often than rater 1."
   ]
  },
  {
   "cell_type": "code",
   "execution_count": 10,
   "metadata": {},
   "outputs": [
    {
     "name": "stdout",
     "output_type": "stream",
     "text": [
      "[-0.5  -0.25  0.    0.25]\n",
      "mean difference: -0.04182449494949495\n",
      "std difference: 0.11593827601116938\n"
     ]
    },
    {
     "data": {
      "image/png": "[encoded data removed]",
      "text/plain": [
       "<Figure size 432x288 with 1 Axes>"
      ]
     },
     "metadata": {},
     "output_type": "display_data"
    }
   ],
   "source": [
    "# differences in color ratings\n",
    "diffrat = rat1 - rat2 \n",
    "print(np.unique(diffrat))\n",
    "plt.hist(diffrat,bins=4) \n",
    "plt.xlabel('rating 1 - rating 2')\n",
    "plt.ylabel('# players')\n",
    "plt.title('differences in skin color ratings')\n",
    "\n",
    "print('mean difference:', np.mean(diffrat))\n",
    "print('std difference:', np.std(diffrat))"
   ]
  },
  {
   "cell_type": "markdown",
   "metadata": {},
   "source": [
    "Rater 2 assignes lighter skin color more often than rater 1. The standard deviation of the differences is roughly half the size of the difference between to neighbouring skin tones. Excluding data where the diffence is large will improve the accuracy of our analysis. Alternatively, we could take the mean between the both ratings."
   ]
  },
  {
   "cell_type": "code",
   "execution_count": 11,
   "metadata": {},
   "outputs": [
    {
     "name": "stdout",
     "output_type": "stream",
     "text": [
      "9\n"
     ]
    },
    {
     "data": {
      "text/plain": [
       "Text(0.5, 1.0, 'mean of skin color ratings')"
      ]
     },
     "execution_count": 11,
     "metadata": {},
     "output_type": "execute_result"
    },
    {
     "data": {
      "image/png": "[encoded data removed]",
      "text/plain": [
       "<Figure size 432x288 with 1 Axes>"
      ]
     },
     "metadata": {},
     "output_type": "display_data"
    }
   ],
   "source": [
    "# mean color ratings\n",
    "meanrat = 0.5*(rat1 + rat2)\n",
    "print(len(np.unique(meanrat)))\n",
    "plt.hist(meanrat,bins=9) \n",
    "plt.xlabel('mean skin color rating')\n",
    "plt.ylabel('# players')\n",
    "plt.title('mean of skin color ratings')"
   ]
  },
  {
   "cell_type": "code",
   "execution_count": 12,
   "metadata": {},
   "outputs": [
    {
     "name": "stdout",
     "output_type": "stream",
     "text": [
      "1205\n"
     ]
    },
    {
     "name": "stderr",
     "output_type": "stream",
     "text": [
      "C:\\Program Files\\Anaconda3\\lib\\site-packages\\pandas\\core\\series.py:841: FutureWarning: \n",
      "Passing list-likes to .loc or [] with any missing label will raise\n",
      "KeyError in the future, you can use .reindex() as an alternative.\n",
      "\n",
      "See the documentation here:\n",
      "https://pandas.pydata.org/pandas-docs/stable/indexing.html#deprecate-loc-reindex-listlike\n",
      "  return self.loc[key]\n",
      "C:\\Program Files\\Anaconda3\\lib\\site-packages\\numpy\\lib\\function_base.py:780: RuntimeWarning: invalid value encountered in greater_equal\n",
      "  keep = (tmp_a >= first_edge)\n",
      "C:\\Program Files\\Anaconda3\\lib\\site-packages\\numpy\\lib\\function_base.py:781: RuntimeWarning: invalid value encountered in less_equal\n",
      "  keep &= (tmp_a <= last_edge)\n"
     ]
    },
    {
     "data": {
      "text/plain": [
       "Text(0.5, 1.0, 'mean of skin color ratings')"
      ]
     },
     "execution_count": 12,
     "metadata": {},
     "output_type": "execute_result"
    },
    {
     "data": {
      "image/png": "[encoded data removed]",
      "text/plain": [
       "<Figure size 432x288 with 1 Axes>"
      ]
     },
     "metadata": {},
     "output_type": "display_data"
    }
   ],
   "source": [
    "# mean color ratings\n",
    "ratboth = rat1[np.where(rat1==rat2)[0]]\n",
    "print(len(ratboth))\n",
    "plt.hist(ratboth,bins=5) \n",
    "plt.xlabel('mean skin color rating')\n",
    "plt.ylabel('# players')\n",
    "plt.title('mean of skin color ratings')"
   ]
  },
  {
   "cell_type": "code",
   "execution_count": 13,
   "metadata": {},
   "outputs": [
    {
     "data": {
      "text/plain": [
       "Text(0, 0.5, 'red cards per game')"
      ]
     },
     "execution_count": 13,
     "metadata": {},
     "output_type": "execute_result"
    },
    {
     "data": {
      "image/png": "[encoded data removed]",
      "text/plain": [
       "<Figure size 432x288 with 1 Axes>"
      ]
     },
     "metadata": {},
     "output_type": "display_data"
    }
   ],
   "source": [
    "plt.scatter(meanrat,averageRedCards)\n",
    "plt.xlabel('skin color rating')\n",
    "plt.ylabel('red cards per game')"
   ]
  },
  {
   "cell_type": "code",
   "execution_count": 14,
   "metadata": {},
   "outputs": [
    {
     "name": "stdout",
     "output_type": "stream",
     "text": [
      "Fraction of players with skin colour rating above 0.5\n",
      "-------------------------\n",
      "England: 21.2 percent\n",
      "Spain: 8.2 percent\n",
      "France: 37.2 percent\n",
      "Germany: 9.6 percent\n",
      "\n"
     ]
    }
   ],
   "source": [
    "# darker skin by league\n",
    "\n",
    "ind = [meanrat>0.5][0].values\n",
    "\n",
    "leagues = [league_eng,league_spa,league_fra,league_ger]\n",
    "inl = [100*np.sum(l*ind)/np.sum(l) for l in leagues]\n",
    "print('Fraction of players with skin colour rating above 0.5\\n-------------------------\\nEngland: %0.1f percent\\nSpain: %0.1f percent\\nFrance: %0.1f percent\\nGermany: %0.1f percent\\n' %(inl[0],inl[1],inl[2],inl[3],))"
   ]
  },
  {
   "cell_type": "markdown",
   "metadata": {},
   "source": [
    "In Spain and in Germany, there are less players with dark skin than in France or England."
   ]
  },
  {
   "cell_type": "markdown",
   "metadata": {},
   "source": [
    "### Final Dataset"
   ]
  },
  {
   "cell_type": "code",
   "execution_count": 15,
   "metadata": {},
   "outputs": [],
   "source": [
    "# gather data\n",
    "data = np.array([meanrat,age,totalGames,league_fra,league_ger,pos_keep,pos_back,pos_mid,pos_wing,pos_for])\n",
    "names = np.array(['mean rating','age','games','French league','German league','goalkeeper','back','midfield','wings','forward'])\n",
    "\n",
    "# remove players with no red cards\n",
    "X_all = data.T[np.where(averageRedCards > 0)[0],:]\n",
    "y_all = averageRedCards[np.where(averageRedCards > 0)[0]]\n",
    "\n",
    "X_train , X_test , y_train , y_test =\\\n",
    "model_selection.train_test_split( X_all , y_all , test_size = 0.4 , random_state = 0)"
   ]
  },
  {
   "cell_type": "code",
   "execution_count": 16,
   "metadata": {},
   "outputs": [
    {
     "name": "stdout",
     "output_type": "stream",
     "text": [
      "484\n"
     ]
    }
   ],
   "source": [
    "print(len(X_train))"
   ]
  },
  {
   "cell_type": "markdown",
   "metadata": {},
   "source": [
    "We remove players with no red cards. We aim to investigate the probability of a player to receive a red card in a match. As an estimator for the probability, we use the average number of red cards a player has received during his career. If a player has never received a red card, the average will give zero, but the underlaying probability is not."
   ]
  },
  {
   "cell_type": "markdown",
   "metadata": {},
   "source": [
    "## 3.2 Model Creation\n",
    "\n",
    "### Linear Regression"
   ]
  },
  {
   "cell_type": "code",
   "execution_count": 17,
   "metadata": {},
   "outputs": [],
   "source": [
    "# linear regression\n",
    "def linreg(X,y):\n",
    "    # y = b*x + c\n",
    "    \n",
    "    # centralize data\n",
    "    Xc = np.array([x - np.mean(x) for x in X.T]).T \n",
    "    yc = y - np.mean(y)\n",
    "    \n",
    "    # cholevski factorization\n",
    "    R = np.linalg.cholesky(np.matmul(Xc.T,Xc))\n",
    "    y_ = np.matmul(Xc.T,yc)\n",
    "\n",
    "    # find z by forward substitution\n",
    "    z = [y_[0]*R[0,0]**-1]\n",
    "    for m in np.arange(1,Xc.shape[1]):\n",
    "        z.append((y_[m]-np.sum(R[m,:m]*np.array(z)))*R[m,m]**-1)\n",
    "\n",
    "    # find beta by backwards substitution\n",
    "    beta = [z[Xc.shape[1]-1]*R.T[Xc.shape[1]-1,Xc.shape[1]-1]**-1]\n",
    "    for m in np.arange(2,Xc.shape[1]+1):\n",
    "        beta.append((z[Xc.shape[1]-m]-np.sum(R.T[Xc.shape[1]-m,Xc.shape[1]-m+1:]*np.array(beta[::-1])))*R[Xc.shape[1]-m,Xc.shape[1]-m]**-1)\n",
    "\n",
    "    # compute offset c\n",
    "    c  = np.mean(y - np.sum(np.array([X[:,i]*beta[::-1][i] for i in range(X.shape[1])]),axis=0))\n",
    "\n",
    "    return [np.array(beta[::-1]),c]\n",
    "\n",
    "\n",
    "def linregpred(X,beta,c):\n",
    "    return np.sum(X*beta)+c\n",
    "\n",
    "\n",
    "# proper class defintition\n",
    "class LinRegMod:\n",
    "    def __init__(self):\n",
    "        self.beta = []\n",
    "        self.c = []\n",
    "            \n",
    "    def fit(self,X,y):\n",
    "        # y = b*x + c\n",
    "\n",
    "        # centralize data\n",
    "        Xc = np.array([x - np.mean(x) for x in X.T]).T \n",
    "        yc = y - np.mean(y)\n",
    "\n",
    "        # cholevski factorization\n",
    "        R = np.linalg.cholesky(np.matmul(Xc.T,Xc))\n",
    "        y_ = np.matmul(Xc.T,yc)\n",
    "\n",
    "        # find z by forward substitution\n",
    "        z = [y_[0]*R[0,0]**-1]\n",
    "        for m in np.arange(1,Xc.shape[1]):\n",
    "            z.append((y_[m]-np.sum(R[m,:m]*np.array(z)))*R[m,m]**-1)\n",
    "\n",
    "        # find beta by backwards substitution\n",
    "        beta = [z[Xc.shape[1]-1]*R.T[Xc.shape[1]-1,Xc.shape[1]-1]**-1]\n",
    "        for m in np.arange(2,Xc.shape[1]+1):\n",
    "            beta.append((z[Xc.shape[1]-m]-np.sum(R.T[Xc.shape[1]-m,Xc.shape[1]-m+1:]*np.array(beta[::-1])))*R[Xc.shape[1]-m,Xc.shape[1]-m]**-1)\n",
    "        \n",
    "        self.beta = beta[::-1]\n",
    "        \n",
    "        # compute offset c\n",
    "        self.c  = np.mean(y - np.sum(np.array([X[:,i]*beta[::-1][i] for i in range(X.shape[1])]),axis=0))\n",
    "\n",
    "    def predict(self,X):\n",
    "        return np.sum(X*self.beta)+self.c"
   ]
  },
  {
   "cell_type": "code",
   "execution_count": 18,
   "metadata": {},
   "outputs": [
    {
     "name": "stdout",
     "output_type": "stream",
     "text": [
      "c =  0.024086462027281045\n"
     ]
    },
    {
     "data": {
      "text/html": [
       "<div>\n",
       "<style scoped>\n",
       "    .dataframe tbody tr th:only-of-type {\n",
       "        vertical-align: middle;\n",
       "    }\n",
       "\n",
       "    .dataframe tbody tr th {\n",
       "        vertical-align: top;\n",
       "    }\n",
       "\n",
       "    .dataframe thead th {\n",
       "        text-align: right;\n",
       "    }\n",
       "</style>\n",
       "<table border=\"1\" class=\"dataframe\">\n",
       "  <thead>\n",
       "    <tr style=\"text-align: right;\">\n",
       "      <th></th>\n",
       "      <th>mean rating</th>\n",
       "      <th>age</th>\n",
       "    </tr>\n",
       "  </thead>\n",
       "  <tbody>\n",
       "    <tr>\n",
       "      <th>beta</th>\n",
       "      <td>0.003022</td>\n",
       "      <td>-0.000568</td>\n",
       "    </tr>\n",
       "  </tbody>\n",
       "</table>\n",
       "</div>"
      ],
      "text/plain": [
       "      mean rating       age\n",
       "beta     0.003022 -0.000568"
      ]
     },
     "execution_count": 18,
     "metadata": {},
     "output_type": "execute_result"
    }
   ],
   "source": [
    "# experimenting by only using skin color rating and age\n",
    "\n",
    "\n",
    "#X = X_train[np.where(y_train>0)[0],:2]\n",
    "#y = y_train[np.where(y_train>0)[0]]\n",
    "\n",
    "X = X_all[:,:2]\n",
    "y = y_all\n",
    "\n",
    "res = linreg(X,y)\n",
    "print('c = ',res[1])\n",
    "pd.DataFrame(data=[res[0]],columns=names[:len(res[0])],index=['beta'])\n"
   ]
  },
  {
   "cell_type": "code",
   "execution_count": 19,
   "metadata": {},
   "outputs": [
    {
     "data": {
      "text/plain": [
       "Text(0, 0.5, 'red cards per game')"
      ]
     },
     "execution_count": 19,
     "metadata": {},
     "output_type": "execute_result"
    },
    {
     "data": {
      "image/png": "[encoded data removed]",
      "text/plain": [
       "<Figure size 432x288 with 1 Axes>"
      ]
     },
     "metadata": {},
     "output_type": "display_data"
    }
   ],
   "source": [
    "xrange = np.linspace(np.min(X[:,0]),np.max(X[:,0]),100)\n",
    "\n",
    "plt.scatter(X[:,0],y)\n",
    "plt.plot(xrange,res[0][0]*xrange + res[0][1]*np.mean(X[:,1]) + res[1],color='red')\n",
    "plt.yscale('log')\n",
    "plt.ylim(1e-3,1e-1)\n",
    "plt.xlabel('skin color rating')\n",
    "plt.ylabel('red cards per game')"
   ]
  },
  {
   "cell_type": "code",
   "execution_count": 20,
   "metadata": {},
   "outputs": [
    {
     "data": {
      "text/plain": [
       "Text(0, 0.5, 'red cards per game')"
      ]
     },
     "execution_count": 20,
     "metadata": {},
     "output_type": "execute_result"
    },
    {
     "data": {
      "image/png": "[encoded data removed]",
      "text/plain": [
       "<Figure size 432x288 with 1 Axes>"
      ]
     },
     "metadata": {},
     "output_type": "display_data"
    }
   ],
   "source": [
    "xrange = np.linspace(np.min(X[:,1]),np.max(X[:,1]),100)\n",
    "\n",
    "plt.scatter(X[:,1],y)\n",
    "plt.plot(xrange,res[0][1]*xrange + res[0][0]*np.mean(X[:,0]) + res[1],color='red')\n",
    "plt.yscale('log')\n",
    "plt.ylim(1e-3,0.2)\n",
    "plt.xlabel('age')\n",
    "plt.ylabel('red cards per game')"
   ]
  },
  {
   "cell_type": "markdown",
   "metadata": {},
   "source": [
    "### Regression Forest"
   ]
  },
  {
   "cell_type": "code",
   "execution_count": 21,
   "metadata": {},
   "outputs": [],
   "source": [
    "# classes adopted from the previous exercise\n",
    "\n",
    "class Node:\n",
    "    pass\n",
    "\n",
    "class Tree:\n",
    "    def __init__(self):\n",
    "        self.root = Node()\n",
    "    \n",
    "    def find_leaf(self, x):\n",
    "        node = self.root\n",
    "        while hasattr(node, \"feature\"):\n",
    "            j = node.feature\n",
    "            if x[j] <= node.threshold:\n",
    "                node = node.left\n",
    "            else:\n",
    "                node = node.right\n",
    "        return node\n",
    "\n",
    "        \n",
    "class RegressionTree(Tree):\n",
    "    def __init__(self):\n",
    "        super(RegressionTree, self).__init__()\n",
    "        \n",
    "    def fit(self, data, labels, n_min=20):\n",
    "\n",
    "        N, D = data.shape\n",
    "        D_try = int(np.sqrt(D)) # how many features to consider for each split decision\n",
    "                    # consider all as the number of features is small\n",
    "\n",
    "        # initialize the root node\n",
    "        self.root.data = data\n",
    "        self.root.labels = labels\n",
    "        \n",
    "        #put root in stack\n",
    "        stack = [self.root]\n",
    "        while len(stack):\n",
    "            node = stack.pop()\n",
    "            n = node.data.shape[0] # number of instances in present node\n",
    "            \n",
    "            perm = np.random.permutation(D)   # permute D indices\n",
    "            \n",
    "            uniqueness = np.any([len(np.unique(node.data[:,i])) > 1 for i in perm[:D_try]])\n",
    "            \n",
    "            if n >= n_min and uniqueness == True:\n",
    "                # Call 'make_decision_split_node()' with 'D_try' randomly selected \n",
    "                # feature indices. This turns 'node' into a split node\n",
    "                # and returns the two children, which must be placed on the 'stack'.\n",
    "                \n",
    "                left, right = make_regression_split_node(node, perm[:D_try]) #select :D_try of permuted indices\n",
    "                                                       #for 'make_decision_split_node()'\n",
    "                # put children in stack\n",
    "                stack.append(left)\n",
    "                stack.append(right)\n",
    "                \n",
    "            else:\n",
    "                # Call 'make_decision_leaf_node()' to turn 'node' into a leaf node.\n",
    "                make_regression_leaf_node(node)\n",
    "                \n",
    "    def predict(self, x):\n",
    "        leaf = self.find_leaf(x)\n",
    "        # compute p(y | x)\n",
    "        return leaf.response \n",
    "    \n",
    "\n",
    "\n",
    "def make_regression_split_node(node, feature_indices):\n",
    "    '''\n",
    "    node: the node to be split\n",
    "    feature_indices: a numpy array of length 'D_try', containing the feature \n",
    "                     indices to be considered in the present split\n",
    "    '''\n",
    "    n, D = node.data.shape\n",
    "\n",
    "    # find best feature j (among 'feature_indices') and best threshold t for the split\n",
    "    e_min = 1e100\n",
    "    j_min, t_min = 0, 0\n",
    "    for j in feature_indices:\n",
    "        # remove duplicate features\n",
    "        dj = np.sort(np.unique(node.data[:,j]))\n",
    "\n",
    "        # compute candidate thresholds in the middle between consecutive feature values\n",
    "        tj = 0.5 * (dj[1:] + dj[:-1]) \n",
    "        # each candidate threshold we need to compute squared error of the resulting children node\n",
    "        for t in tj:\n",
    "            left_indices = node.data[:,j] <= t\n",
    "            nl = np.sum(left_indices)\n",
    "            ll = node.labels[left_indices]\n",
    "            el = np.sum((ll-np.mean(ll))**2)\n",
    "            nr = n - nl\n",
    "            lr = node.labels[node.data[:,j] > t]\n",
    "            er = np.sum((lr-np.mean(lr))**2)\n",
    "            # choose the the best threshold that minimizes sum of Gini impurities\n",
    "            if el + er < e_min:\n",
    "                e_min = el + er\n",
    "                j_min = j\n",
    "                t_min = t\n",
    "\n",
    "\n",
    "\n",
    "    # create children\n",
    "    left = Node()\n",
    "    right = Node()\n",
    "    \n",
    "    # initialize 'left' and 'right' with the data subsets and labels\n",
    "    # according to the optimal split found above\n",
    "    left.data = node.data[node.data[:,j_min] <= t_min, :]\n",
    "    left.labels = node.labels[node.data[:,j_min] <= t_min]\n",
    "    right.data = node.data[node.data[:,j_min] > t_min, :]\n",
    "    right.labels = node.labels[node.data[:,j_min] > t_min]\n",
    "\n",
    "    # turn the current 'node' into a split node\n",
    "    # (store children and split condition)\n",
    "    node.left = left\n",
    "    node.right = right\n",
    "    node.feature = j_min\n",
    "    node.threshold = t_min\n",
    "      \n",
    "    \n",
    "    # return the children (to be placed on the stack)\n",
    "    return left, right    \n",
    "\n",
    "def make_regression_leaf_node(node):\n",
    "    '''\n",
    "    node: the node to become a leaf\n",
    "    '''\n",
    "    node.N = node.labels.shape[0]\n",
    "    node.response = np.mean(node.labels) / node.N\n",
    "    \n",
    "class RegressionForest():\n",
    "    def __init__(self, n_trees):\n",
    "        # create ensemble\n",
    "        self.trees = [RegressionTree() for i in range(n_trees)]\n",
    "    \n",
    "    def fit(self, data, labels, n_min=0):\n",
    "        for tree in self.trees:\n",
    "            # train each tree, using a bootstrap sample of the data\n",
    "            bootstrap = np.random.choice(len(data), size=len(data))\n",
    "            tree.fit(data[bootstrap], labels[bootstrap], n_min)\n",
    "\n",
    "    def predict(self, x):\n",
    "        # compute the ensemble prediction\n",
    "        return np.mean([tree.predict(x) for tree in self.trees], axis=0)"
   ]
  },
  {
   "cell_type": "markdown",
   "metadata": {},
   "source": [
    "### Test error"
   ]
  },
  {
   "cell_type": "code",
   "execution_count": 22,
   "metadata": {},
   "outputs": [
    {
     "name": "stdout",
     "output_type": "stream",
     "text": [
      "\n",
      "linear regression model\n",
      "----------------------------\n",
      "mean test error =  0.759235693267782\n"
     ]
    }
   ],
   "source": [
    "# train linear regression model\n",
    "\n",
    "print('\\nlinear regression model\\n----------------------------')\n",
    "\n",
    "lrm = LinRegMod()\n",
    "lrm.fit(X_train, y_train)\n",
    "\n",
    "# test error\n",
    "err_test = np.mean([(lrm.predict(X_test[i])-y_test[i])**2 for i in range(len(X_test))])\n",
    "print('mean test error = ',err_test/np.std(y_test)**2)"
   ]
  },
  {
   "cell_type": "code",
   "execution_count": 23,
   "metadata": {},
   "outputs": [
    {
     "name": "stdout",
     "output_type": "stream",
     "text": [
      "\n",
      "regression forest\n",
      "----------------------------\n",
      "mean test error =  1.5124577680694533\n"
     ]
    }
   ],
   "source": [
    "# training one instance of RegressionForest\n",
    "\n",
    "print('\\nregression forest\\n----------------------------')\n",
    "\n",
    "rf = RegressionForest(10)\n",
    "rf.fit(X_train, y_train, 20)\n",
    "\n",
    "# test error\n",
    "\n",
    "err_test = np.mean([(rf.predict(X_test[i])-y_test[i])**2 for i in range(len(X_test))])\n",
    "print('mean test error = ',err_test/np.std(y_test)**2)"
   ]
  },
  {
   "cell_type": "markdown",
   "metadata": {},
   "source": [
    "We scale the squared test error by the variance, which results in a more intuitive quantity then simply the squared error. It can also be more easily be compared.\n",
    "\n",
    "The error for the test set is larger for the regression forest. A smaller error could be achieved by lowering n_min or increasing the size of the training set."
   ]
  },
  {
   "cell_type": "markdown",
   "metadata": {},
   "source": [
    "### Cross-validation"
   ]
  },
  {
   "cell_type": "code",
   "execution_count": 24,
   "metadata": {},
   "outputs": [],
   "source": [
    "# cross validation\n",
    "\n",
    "def leave_one_cv(model,X,y,N):\n",
    "    # leave one out cross validation\n",
    "    err = []\n",
    "\n",
    "    I = np.random.permutation(len(X))[:N]\n",
    "\n",
    "    for i in I:\n",
    "        model.fit(np.delete(X,i,axis=0), np.delete(y,i))\n",
    "        y_pred = model.predict(X[i])\n",
    "\n",
    "        err.append((y[i]-y_pred)**2)\n",
    "\n",
    "    return np.mean(err)/np.std(y)**2"
   ]
  },
  {
   "cell_type": "code",
   "execution_count": 25,
   "metadata": {},
   "outputs": [
    {
     "name": "stdout",
     "output_type": "stream",
     "text": [
      "mean deviation from prediction:  0.8249450792622764\n"
     ]
    }
   ],
   "source": [
    "# leave one out cross-validation linear regression\n",
    "\n",
    "model = LinRegMod()\n",
    "\n",
    "score_lrm = leave_one_cv(model,X_all,y_all,len(X_all))\n",
    "\n",
    "print('mean deviation from prediction: ',score_lrm)"
   ]
  },
  {
   "cell_type": "markdown",
   "metadata": {},
   "source": [
    "Cross-validation indicates a good accuracy."
   ]
  },
  {
   "cell_type": "code",
   "execution_count": 26,
   "metadata": {},
   "outputs": [
    {
     "name": "stdout",
     "output_type": "stream",
     "text": [
      "mean deviation from prediction:  0.6661294782891204\n"
     ]
    }
   ],
   "source": [
    "# leave one out cross-validation linear regression\n",
    "\n",
    "model = RegressionForest(10)\n",
    "\n",
    "score_rf = leave_one_cv(model,X_all,y_all,10)\n",
    "\n",
    "print('mean deviation from prediction: ',score_rf)"
   ]
  },
  {
   "cell_type": "markdown",
   "metadata": {},
   "source": [
    "The error for the regression forest shrinks for the larger training set. However, we use only a small number of crossings for the regression forest due to the large computation time."
   ]
  },
  {
   "cell_type": "markdown",
   "metadata": {},
   "source": [
    "## 3.3 Answering the Research Question"
   ]
  },
  {
   "cell_type": "code",
   "execution_count": 27,
   "metadata": {},
   "outputs": [],
   "source": [
    "# create 19 new data sets\n",
    "\n",
    "X = X_all[:,:]\n",
    "y = y_all\n",
    "\n",
    "shuffledSet = [X.copy() for i in range(19)]\n",
    "\n",
    "for Xnew in shuffledSet:\n",
    "    Xnew[:,0] = X[:,0][np.random.permutation(len(X))]"
   ]
  },
  {
   "cell_type": "code",
   "execution_count": 28,
   "metadata": {},
   "outputs": [
    {
     "name": "stdout",
     "output_type": "stream",
     "text": [
      "\n",
      "linear regression model\n",
      "----------------------------\n",
      "number of sets for which error increased:  18\n",
      "mean deviation from prediction:  0.8286188631758438\n",
      "standard deviation of deviation from prediction:  0.0016745913763320556\n"
     ]
    }
   ],
   "source": [
    "# leave one out cross-validation linear regression\n",
    "\n",
    "print('\\nlinear regression model\\n----------------------------')\n",
    "\n",
    "score = []\n",
    "\n",
    "for Xnew in shuffledSet:\n",
    "\n",
    "    score.append(leave_one_cv(LinRegMod(),Xnew,y,len(X)))\n",
    "\n",
    "print('number of sets for which error increased: ',len(np.where(score>score_lrm)[0]))\n",
    "print('mean deviation from prediction: ',np.mean(score))\n",
    "print('standard deviation of deviation from prediction: ',np.std(score))"
   ]
  },
  {
   "cell_type": "markdown",
   "metadata": {},
   "source": [
    "The squared error is slightly increased when permutating the color ratings. This shows a correlation between the skin color rating and average red cards per game."
   ]
  },
  {
   "cell_type": "code",
   "execution_count": 29,
   "metadata": {},
   "outputs": [
    {
     "name": "stdout",
     "output_type": "stream",
     "text": [
      "\n",
      "regression forest\n",
      "----------------------------\n",
      "number of sets for which error increased:  7\n",
      "mean deviation from prediction:  0.7268111272671135\n",
      "standard deviation of deviation from prediction:  0.4062397297037986\n"
     ]
    }
   ],
   "source": [
    "# leave one out cross-validation regression forest\n",
    "\n",
    "print('\\nregression forest\\n----------------------------')\n",
    "\n",
    "score = []\n",
    "\n",
    "for Xnew in shuffledSet:\n",
    "\n",
    "    score.append(leave_one_cv(RegressionForest(10),Xnew,y,10))\n",
    "\n",
    "print('number of sets for which error increased: ',len(np.where(score>score_rf)[0]))\n",
    "print('mean deviation from prediction: ',np.mean(score))\n",
    "print('standard deviation of deviation from prediction: ',np.std(score))"
   ]
  },
  {
   "cell_type": "markdown",
   "metadata": {},
   "source": [
    "The result regarding the regression forest is less clear as can be seen from the large standard deviation. We did not perform a full cross.validation but used only a small randomly selected subset because the computation time would be to large otherwise."
   ]
  },
  {
   "cell_type": "code",
   "execution_count": 30,
   "metadata": {},
   "outputs": [
    {
     "name": "stdout",
     "output_type": "stream",
     "text": [
      "Mean red cards per game by skin color rating\n",
      "----------------------------------------------------\n",
      "light skin colors (rating < 0.5)\n",
      "0.008183059612957413\n",
      "\n",
      "dark skin colors (rating > 0.5)\n",
      "0.011710184342505548\n"
     ]
    }
   ],
   "source": [
    "print('Mean red cards per game by skin color rating')\n",
    "print('----------------------------------------------------')\n",
    "\n",
    "print('light skin colors (rating < 0.5)')\n",
    "print(np.mean(y_all[np.where(X_all[:,0]<0.5)]))\n",
    "\n",
    "print('\\ndark skin colors (rating > 0.5)')\n",
    "\n",
    "print(np.mean(y_all[np.where(X_all[:,0]>0.5)]))"
   ]
  },
  {
   "cell_type": "markdown",
   "metadata": {},
   "source": [
    "The mean red cards per game are slightly increased for players with dark skin colors."
   ]
  },
  {
   "cell_type": "markdown",
   "metadata": {},
   "source": [
    "### Alternative Cleaning\n"
   ]
  },
  {
   "cell_type": "markdown",
   "metadata": {},
   "source": [
    "### Alternative Hypothesis\n",
    "\n",
    "(i) Leagues\n",
    "\n",
    "The fraction of players with dark skin colors varies between the leagues. So the number of players with dark skin color is correlated with the league they are playing in.\n",
    "Then, the interpretation of rules could vary inbetween leagues, which would result in a correlation between the number of red cards and league. As a conequence, the skin color would also be correlated to the number of red cards.\n",
    "\n",
    "(ii) Youth\n",
    "\n",
    "The countries under investigation became increasingly multicultural and additionally their leagues became more international over the last decades. Thus, there could be a correlation between skin color and the age of players. \n",
    "Young players might have different tactics due to different physical capabilities and experience. This could lead to a difference in red cards received by young versus old players. \n",
    "In combination, both effects could lead to a correlation between red cards and skin color."
   ]
  },
  {
   "cell_type": "code",
   "execution_count": null,
   "metadata": {},
   "outputs": [],
   "source": []
  }
 ],
 "metadata": {
  "kernelspec": {
   "display_name": "Python 3",
   "language": "python",
   "name": "python3"
  },
  "language_info": {
   "codemirror_mode": {
    "name": "ipython",
    "version": 3
   },
   "file_extension": ".py",
   "mimetype": "text/x-python",
   "name": "python",
   "nbconvert_exporter": "python",
   "pygments_lexer": "ipython3",
   "version": "3.6.5"
  }
 },
 "nbformat": 4,
 "nbformat_minor": 2
}
