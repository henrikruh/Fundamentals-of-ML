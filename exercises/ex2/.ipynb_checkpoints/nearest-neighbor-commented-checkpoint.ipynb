{
 "cells": [
  {
   "cell_type": "markdown",
   "metadata": {},
   "source": [
    "# 2 Asymptotoc local error for NN classifier\n",
    "\n",
    "Our toy model:\n",
    "- #of classes $C = 2$\n",
    "- data =  (features, labels) = $(X, Y)\\in([0,1]\\times \\{0,1\\})$ \n",
    "- feature density $p(x) = 1$\n",
    "- posteriors: $p(Y=0|x)= 1-x$ and $p(Y=1|x) = x$\n",
    "\n",
    "The Gini impurity is given by: \\begin{align*}\n",
    "p_{\\infty}(error|x) &= 1 - \\sum_{k=1}^C p(Y=k|x)² \\\\\n",
    "&= 1 - [ (1-x)^2 + x^2] \\\\\n",
    "&= 2 (x - x²)\n",
    "\\end{align*}\n",
    "\n",
    "The total error yields therefor: \\begin{align*}\n",
    "p_{\\infty}(error) &= \\int_{[0,1]} p_{\\infty}(error|x) p(x) \\text{d}x \\\\\n",
    "&= 2 \\int_0^1 (x - x²) \\cdot 1 \\text{d}x \\\\\n",
    "&= (x² - \\frac{2}{3} x³)  \\mid_0^1 \\\\\n",
    "&= \\frac{1}{3}\n",
    "\\end{align*}\n"
   ]
  },
  {
   "cell_type": "markdown",
   "metadata": {},
   "source": [
    "<span style =\" color : green ;font - weight : bold \">Comment </span>\n",
    "\n",
    "Our solution is the same and correct."
   ]
  },
  {
   "cell_type": "markdown",
   "metadata": {},
   "source": [
    "# 3 Nearest Neighbor Classification on Real Data\n",
    "## 3.1 Exploring the Data"
   ]
  },
  {
   "cell_type": "code",
   "execution_count": 1,
   "metadata": {},
   "outputs": [],
   "source": [
    "# imports\n",
    "import numpy as np\n",
    "import matplotlib.pyplot as plt\n",
    "from sklearn.datasets import load_digits\n",
    "from sklearn import model_selection\n",
    "from sklearn.neighbors import KNeighborsClassifier as knn2\n",
    "import pandas as pd"
   ]
  },
  {
   "cell_type": "code",
   "execution_count": 2,
   "metadata": {},
   "outputs": [
    {
     "name": "stdout",
     "output_type": "stream",
     "text": [
      "dict_keys(['data', 'target', 'target_names', 'images', 'DESCR'])\n",
      "float64\n"
     ]
    }
   ],
   "source": [
    "digits = load_digits()\n",
    "print ( digits.keys())\n",
    "\n",
    "data = digits[\"data\"]\n",
    "images = digits[\"images\"]\n",
    "target = digits[\"target\"]\n",
    "target_names = digits[\"target_names\"]\n",
    "\n",
    "print ( data.dtype )"
   ]
  },
  {
   "cell_type": "code",
   "execution_count": 3,
   "metadata": {},
   "outputs": [
    {
     "data": {
      "image/png": "[encoded data removed]",
      "text/plain": [
       "<Figure size 432x288 with 1 Axes>"
      ]
     },
     "metadata": {},
     "output_type": "display_data"
    },
    {
     "data": {
      "image/png": "[encoded data removed]",
      "text/plain": [
       "<Figure size 432x288 with 1 Axes>"
      ]
     },
     "metadata": {},
     "output_type": "display_data"
    }
   ],
   "source": [
    "img = images[np.where(target==3)[0][0]]\n",
    "assert 2 == len(img.shape)\n",
    "plt.figure()\n",
    "plt.gray()\n",
    "plt.imshow(img , interpolation =\"nearest\") # also try interpolation =\" bicubic \"\n",
    "plt.title('interpolation =\"nearest\"')\n",
    "plt.show()\n",
    "\n",
    "plt.figure()\n",
    "plt.gray()\n",
    "plt.imshow(img , interpolation =\"bicubic\") # also try interpolation =\" bicubic \"\n",
    "plt.title('interpolation =\"bicubic\"')\n",
    "plt.show()"
   ]
  },
  {
   "cell_type": "code",
   "execution_count": 4,
   "metadata": {},
   "outputs": [],
   "source": [
    "X_all = data\n",
    "y_all = target\n",
    "X_train , X_test , y_train , y_test =\\\n",
    "model_selection.train_test_split( digits.data , digits.target , test_size = 0.4 , random_state = 0)"
   ]
  },
  {
   "cell_type": "markdown",
   "metadata": {},
   "source": [
    "<span style =\" color : green ;font - weight : bold \">Comment </span>\n",
    "\n",
    "So far, we do exactly the same as the example solution, also due to the given instructions."
   ]
  },
  {
   "cell_type": "markdown",
   "metadata": {},
   "source": [
    "## 3.2 Distance function computation using loops"
   ]
  },
  {
   "cell_type": "code",
   "execution_count": 5,
   "metadata": {},
   "outputs": [],
   "source": [
    "def euclidian_dist(u,v):\n",
    "    # computes euclidean distance between two points\n",
    "    return np.sqrt(np.sum(np.square(u-v)))\n",
    "\n",
    "def dist_loop(training,test):\n",
    "    N = len(training)\n",
    "    M = len(test)\n",
    "    \n",
    "    dist_N = []\n",
    "    dist_M = []\n",
    "\n",
    "    for i in range(N):\n",
    "        dist_M = []      \n",
    "        for j in range(M):\n",
    "            dist_M.append(euclidian_dist(training[i],test[j]))\n",
    "        dist_N.append(dist_M)\n",
    "        \n",
    "    return dist_N"
   ]
  },
  {
   "cell_type": "code",
   "execution_count": 6,
   "metadata": {},
   "outputs": [
    {
     "name": "stdout",
     "output_type": "stream",
     "text": [
      "1078 719\n",
      "(1078, 719)\n"
     ]
    }
   ],
   "source": [
    "# test fct\n",
    "D_loop = dist_loop(X_train,X_test)\n",
    "print(len(X_train),len(X_test)) # proof dimensions\n",
    "print(np.shape(D_loop))"
   ]
  },
  {
   "cell_type": "markdown",
   "metadata": {},
   "source": [
    "<span style =\" color : green ;font - weight : bold \">Comment </span>\n",
    "\n",
    "We do the same as in the example solution. The difference in notation is:\n",
    "\n",
    "1) We outosurce the distance calculation in another function for a better overview.\n",
    "\n",
    "2) The loop written in the example solution that directly assigns the matrix elements dist[i,j] of the former by its shape defined empty matrix is a a more compact and elegant way of writing the code instead of the lists we used (and but does not have an impact on used storage memory, because we overwrite our lists M, nor on computational time).\n",
    "\n",
    "3) Our results for the time of the computations are in section 3.3"
   ]
  },
  {
   "cell_type": "markdown",
   "metadata": {},
   "source": [
    "## 3.3 Distance function computation using vectorization"
   ]
  },
  {
   "cell_type": "code",
   "execution_count": 7,
   "metadata": {},
   "outputs": [],
   "source": [
    "# def new fct\n",
    "def dist_vec(training,test):\n",
    "    N = len(training)\n",
    "    M = len(test)\n",
    "    \n",
    "    # create grid with indices a and b such that all distances\n",
    "    # distance = absolute ( training_a - test_b )\n",
    "    # between the data points can be computed\n",
    "    a,b = np.mgrid[:N,:M]\n",
    "    \n",
    "    # directly return distances\n",
    "    return np.sqrt(np.sum(np.square(training[a]-test[b]),axis=2))"
   ]
  },
  {
   "cell_type": "code",
   "execution_count": 8,
   "metadata": {},
   "outputs": [
    {
     "name": "stdout",
     "output_type": "stream",
     "text": [
      "1078 719\n",
      "(1078, 719)\n"
     ]
    }
   ],
   "source": [
    "# test new fct\n",
    "D_vec = dist_vec(X_train,X_test)\n",
    "\n",
    "print(len(X_train),len(X_test))# proof dimensions\n",
    "print(np.shape(D_vec))"
   ]
  },
  {
   "cell_type": "code",
   "execution_count": 9,
   "metadata": {},
   "outputs": [
    {
     "name": "stdout",
     "output_type": "stream",
     "text": [
      "[]\n"
     ]
    }
   ],
   "source": [
    "# compare vectorized with loop entries\n",
    "print(np.where(np.abs(D_vec-D_loop)>1e-6)[0])"
   ]
  },
  {
   "cell_type": "code",
   "execution_count": 10,
   "metadata": {},
   "outputs": [
    {
     "name": "stdout",
     "output_type": "stream",
     "text": [
      "dist_loop\n",
      "4.21 s ± 129 ms per loop (mean ± std. dev. of 7 runs, 1 loop each)\n",
      "dist_vec\n",
      "520 ms ± 23.7 ms per loop (mean ± std. dev. of 7 runs, 1 loop each)\n"
     ]
    }
   ],
   "source": [
    "# compare vectorized with loop computation time\n",
    "print('dist_loop')\n",
    "%timeit dist_loop(X_train,X_test)\n",
    "\n",
    "print('dist_vec')\n",
    "%timeit dist_vec(X_train,X_test)"
   ]
  },
  {
   "cell_type": "markdown",
   "metadata": {},
   "source": [
    "The vectorized version is signicantly faster."
   ]
  },
  {
   "cell_type": "markdown",
   "metadata": {},
   "source": [
    "<span style =\" color : green ;font - weight : bold \">Comment </span>\n",
    "\n",
    "We also found a way of avoiding loops by directly assigning matrix elements via meshgrid to the distance values from the different vectors. We do also need a matrix with more dimensions as its output, such that our solution resembles the first one given in the example solution of 3.3\n",
    "\n",
    "This is confirmed by the computational time, which is much smaller compared to 3.2 but still improvable compared to the alternative solution presented in the solutions.\n",
    "\n",
    "Compare arrays with np.array_equal(a,b) is more elegant than our comparision, Outputs True/False."
   ]
  },
  {
   "cell_type": "markdown",
   "metadata": {},
   "source": [
    "## 3.4 Implement the k-nearest neighbor classi\u001c",
    "er"
   ]
  },
  {
   "cell_type": "code",
   "execution_count": 11,
   "metadata": {},
   "outputs": [],
   "source": [
    "# implement NN \n",
    "def k_nearest_neighbor(k,features,training_set):\n",
    "\n",
    "    # compute distances and give indices sorted by distances\n",
    "    knn = np.argsort(dist_vec(features,training_set[0]))[:,:k]\n",
    "    \n",
    "    # use the k entries with smallest distance,\n",
    "    # take their labels and bin them,\n",
    "    # the index of the most frequent bin is equal to the most frequent label\n",
    "    # asign this label to the label of the feature\n",
    "    labels = [np.argmax(y) for y in [np.bincount(x) for x in training_set[1][knn]]]\n",
    "    \n",
    "    return labels\n",
    "\n",
    "# define error rate function\n",
    "def p_err (predicted,true_label):\n",
    "    return len(np.where(predicted!=true_label)[0])*len(predicted)**-1"
   ]
  },
  {
   "cell_type": "markdown",
   "metadata": {},
   "source": [
    "<span style =\" color : green ;font - weight : bold \">Comment </span>\n",
    "\n",
    "Our knn-function is more elegant, due to a more compact notation and by being able to understand directly what the function gives back ('labels').\n",
    "What it does is exactly the same as in the sample solution.\n",
    "\n",
    "Our function that computes an error from the comparison of the classes, takes as inputs the computed/predicted label and the test_label and is therefor more compact in notation, but the sample solution is more general. Our usage of numpy functions could be increased by using basic functions such as logical_or."
   ]
  },
  {
   "cell_type": "code",
   "execution_count": 12,
   "metadata": {},
   "outputs": [],
   "source": [
    "# filter out indices where 3 or 9\n",
    "ind_test = np.where((y_test == 3) | (y_test == 9))\n",
    "ind_train = np.where((y_train == 3) | (y_train == 9))"
   ]
  },
  {
   "cell_type": "code",
   "execution_count": 13,
   "metadata": {},
   "outputs": [],
   "source": [
    "# apply knn classifier\n",
    "K = [1,3,5,9,17,33]\n",
    "y_pred = [k_nearest_neighbor(k,X_test[ind_test],[X_train[ind_train],y_train[ind_train]]) for k in K]\n",
    "\n",
    "err = [p_err(y,y_test[ind_test]) for y in y_pred] "
   ]
  },
  {
   "cell_type": "code",
   "execution_count": 14,
   "metadata": {},
   "outputs": [
    {
     "data": {
      "text/html": [
       "<style  type=\"text/css\" >\n",
       "</style>  \n",
       "<table id=\"T_f5d0d734_e724_11e8_8ef7_8c1645303349\" > \n",
       "<thead>    <tr> \n",
       "        <th class=\"blank level0\" ></th> \n",
       "        <th class=\"col_heading level0 col0\" >0</th> \n",
       "        <th class=\"col_heading level0 col1\" >1</th> \n",
       "        <th class=\"col_heading level0 col2\" >2</th> \n",
       "        <th class=\"col_heading level0 col3\" >3</th> \n",
       "        <th class=\"col_heading level0 col4\" >4</th> \n",
       "        <th class=\"col_heading level0 col5\" >5</th> \n",
       "    </tr></thead> \n",
       "<tbody>    <tr> \n",
       "        <th id=\"T_f5d0d734_e724_11e8_8ef7_8c1645303349level0_row0\" class=\"row_heading level0 row0\" >K</th> \n",
       "        <td id=\"T_f5d0d734_e724_11e8_8ef7_8c1645303349row0_col0\" class=\"data row0 col0\" >1</td> \n",
       "        <td id=\"T_f5d0d734_e724_11e8_8ef7_8c1645303349row0_col1\" class=\"data row0 col1\" >3</td> \n",
       "        <td id=\"T_f5d0d734_e724_11e8_8ef7_8c1645303349row0_col2\" class=\"data row0 col2\" >5</td> \n",
       "        <td id=\"T_f5d0d734_e724_11e8_8ef7_8c1645303349row0_col3\" class=\"data row0 col3\" >9</td> \n",
       "        <td id=\"T_f5d0d734_e724_11e8_8ef7_8c1645303349row0_col4\" class=\"data row0 col4\" >17</td> \n",
       "        <td id=\"T_f5d0d734_e724_11e8_8ef7_8c1645303349row0_col5\" class=\"data row0 col5\" >33</td> \n",
       "    </tr>    <tr> \n",
       "        <th id=\"T_f5d0d734_e724_11e8_8ef7_8c1645303349level0_row1\" class=\"row_heading level0 row1\" >err</th> \n",
       "        <td id=\"T_f5d0d734_e724_11e8_8ef7_8c1645303349row1_col0\" class=\"data row1 col0\" >0.0138889</td> \n",
       "        <td id=\"T_f5d0d734_e724_11e8_8ef7_8c1645303349row1_col1\" class=\"data row1 col1\" >0.00694444</td> \n",
       "        <td id=\"T_f5d0d734_e724_11e8_8ef7_8c1645303349row1_col2\" class=\"data row1 col2\" >0.00694444</td> \n",
       "        <td id=\"T_f5d0d734_e724_11e8_8ef7_8c1645303349row1_col3\" class=\"data row1 col3\" >0.00694444</td> \n",
       "        <td id=\"T_f5d0d734_e724_11e8_8ef7_8c1645303349row1_col4\" class=\"data row1 col4\" >0.00694444</td> \n",
       "        <td id=\"T_f5d0d734_e724_11e8_8ef7_8c1645303349row1_col5\" class=\"data row1 col5\" >0.0208333</td> \n",
       "    </tr></tbody> \n",
       "</table> "
      ],
      "text/plain": [
       "<pandas.io.formats.style.Styler at 0x7fcd899ed5f8>"
      ]
     },
     "execution_count": 14,
     "metadata": {},
     "output_type": "execute_result"
    }
   ],
   "source": [
    "# table displaying the results\n",
    "pd.DataFrame([K,err],['K','err']).style"
   ]
  },
  {
   "cell_type": "code",
   "execution_count": 15,
   "metadata": {},
   "outputs": [
    {
     "name": "stdout",
     "output_type": "stream",
     "text": [
      "errpr rate is minimal for k = 3\n"
     ]
    },
    {
     "data": {
      "image/png": "[encoded data removed]",
      "text/plain": [
       "<Figure size 864x288 with 1 Axes>"
      ]
     },
     "metadata": {},
     "output_type": "display_data"
    }
   ],
   "source": [
    "# plot results\n",
    "plt.figure(figsize=(12,4))\n",
    "\n",
    "plt.scatter(K,err,s=100,facecolor='None',edgecolors='b')\n",
    "\n",
    "plt.grid()\n",
    "plt.ylabel('error rate')\n",
    "plt.xlabel('k')\n",
    "plt.title('error rate')\n",
    "\n",
    "print('errpr rate is minimal for k =',K[np.argmin(err)])"
   ]
  },
  {
   "cell_type": "markdown",
   "metadata": {},
   "source": [
    "The error rate is minimal with a value of approximately $0.7 \\%$ between $k = 3$ and $k = 17$. It increases significantly for $k = 33$, and is also larger for $k=1$. Appearently, taking to many neighbors into account averages out some of the uniqueness of the features, which results in a larger error rate."
   ]
  },
  {
   "cell_type": "markdown",
   "metadata": {},
   "source": [
    "<span style =\" color : green ;font - weight : bold \">Comment </span>\n",
    "\n",
    "We calculated as required only the error rates for the pairs from classes 3 and 9 and showed a table and a plot with error rates depending on the used number of neighbors k.\n",
    "\n",
    "Our result is the same.\n",
    "\n",
    "What we could not see is that the \"sweet spot\" of k, where we would have the lowest error rate, is 1. The sample solution shows that it is better to take less neighbors into account."
   ]
  },
  {
   "cell_type": "markdown",
   "metadata": {},
   "source": [
    "## 4 Cross-validation"
   ]
  },
  {
   "cell_type": "code",
   "execution_count": 16,
   "metadata": {},
   "outputs": [],
   "source": [
    "# define splitting function\n",
    "def split_folds(data, target, L):\n",
    "    N = len(data)\n",
    "    \n",
    "    # randomly arange indices\n",
    "    rand_ind = np.random.permutation(N)\n",
    "    \n",
    "    # split into L folds\n",
    "    folds_ind = np.array_split(rand_ind, L)\n",
    "    \n",
    "    return [data[i] for i in folds_ind], [target[i] for i in folds_ind]"
   ]
  },
  {
   "cell_type": "code",
   "execution_count": 17,
   "metadata": {},
   "outputs": [],
   "source": [
    "# define parameter space\n",
    "L_lst = [2,5,10]\n",
    "k_lst = [1,15]\n",
    "\n",
    "# create empty lists for error rate\n",
    "mean_err_c1 = []\n",
    "std_err_c1 = []\n",
    "\n",
    "mean_err_c2 = []\n",
    "std_err_c2 = []\n",
    "\n",
    "for i in range(len(L_lst)):\n",
    "    \n",
    "    # split data set\n",
    "    X_folds, y_folds = split_folds(data, target, L_lst[i])\n",
    "    \n",
    "    # apply classifier 1\n",
    "    err = [[[p_err(k_nearest_neighbor(k,X_folds[j],[X_folds[l], y_folds[l]]),y_folds[j]) \n",
    "            for l in np.where(range(len(X_folds))!=j)[0]] \n",
    "            for j in range(len(X_folds))] \n",
    "            for k in k_lst]\n",
    "    \n",
    "    # compute mean and std for classifier 1\n",
    "    mean_err_c1.append(np.mean(err,axis=1))\n",
    "    std_err_c1.append(np.std(err,axis=1))\n",
    "    \n",
    "    # apply classifier 2\n",
    "    err = []\n",
    "    for k in k_lst:\n",
    "        for j in range(len(X_folds)):\n",
    "            for l in np.where(range(len(X_folds))!=j)[0]:\n",
    "                # initiate\n",
    "                classifier = knn2(n_neighbors=k)\n",
    "                classifier.fit(X_folds[l], y_folds[l])\n",
    "                err.append(p_err(classifier.predict(X_folds[j]), y_folds[j]))\n",
    "    \n",
    "    # compute mean and std for classifier 2\n",
    "    err = np.array(err).reshape([2,len(X_folds)])\n",
    "    mean_err_c2.append(np.mean(err,axis=1))\n",
    "    std_err_c2.append(np.std(err,axis=1))    \n",
    "\n",
    "# list -> numpy array for better slicing\n",
    "mean_err_c1 = np.array(mean_err_c1)\n",
    "std_err_c1 = np.array(std_err_c1)\n",
    "\n",
    "mean_err_c2 = np.array(mean_err_c2)\n",
    "std_err_c2 = np.array(std_err_c2)\n"
   ]
  },
  {
   "cell_type": "code",
   "execution_count": 18,
   "metadata": {},
   "outputs": [
    {
     "data": {
      "text/plain": [
       "Text(0.5,0,'L')"
      ]
     },
     "execution_count": 18,
     "metadata": {},
     "output_type": "execute_result"
    },
    {
     "data": {
      "image/png": "[encoded data removed]",
      "text/plain": [
       "<Figure size 864x288 with 1 Axes>"
      ]
     },
     "metadata": {},
     "output_type": "display_data"
    },
    {
     "data": {
      "image/png": "[encoded data removed]",
      "text/plain": [
       "<Figure size 864x288 with 1 Axes>"
      ]
     },
     "metadata": {},
     "output_type": "display_data"
    }
   ],
   "source": [
    "# plot results\n",
    "\n",
    "# classifier 1\n",
    "plt.figure(figsize=(12,4))\n",
    "\n",
    "plt.title('classifier 1')\n",
    "plt.errorbar(L_lst,mean_err_c1[:,0],yerr=std_err_c1[:,0],color='b',elinewidth=2,capsize=10,fmt='o-', label = 'k = 1')\n",
    "plt.errorbar(L_lst,mean_err_c1[:,1],yerr=std_err_c1[:,1],color='darkblue',elinewidth=2,capsize=10,fmt='o--', label = 'k = 5')\n",
    "\n",
    "plt.grid()\n",
    "plt.legend()\n",
    "plt.ylabel('error rate')\n",
    "plt.xlabel('L')\n",
    "\n",
    "# classifier 2\n",
    "plt.figure(figsize=(12,4))\n",
    "\n",
    "plt.title('classifier 2')\n",
    "plt.errorbar(L_lst,mean_err_c2[:,0],yerr=std_err_c2[:,0],color='r',elinewidth=2,capsize=10,fmt='o-', label = 'k = 1')\n",
    "plt.errorbar(L_lst,mean_err_c2[:,1],yerr=std_err_c2[:,1],color='darkred',elinewidth=2,capsize=10,fmt='o--', label = 'k = 15')\n",
    "\n",
    "plt.grid()\n",
    "plt.legend()\n",
    "plt.ylabel('error rate')\n",
    "plt.xlabel('L')"
   ]
  },
  {
   "cell_type": "markdown",
   "metadata": {},
   "source": [
    "Classifier 1 (this implementation) and classifier 2 (sklearn) both give the same result  as should be expected. The error rates are larger for $k=15$ than for $k=1$. The standard devation of the error rate decreases with increasing $L$."
   ]
  },
  {
   "cell_type": "markdown",
   "metadata": {},
   "source": [
    "<span style =\" color : green ;font - weight : bold \">Comment </span>\n",
    "\n",
    "Our function split_fold does the same as the first part of the sample solution function cross_validate. Theirs gives a better overview, because no non-in-function-embedded loops occur in the code.\n",
    "\n",
    "The last sentence is false, which can also be seen in our plots. Correct would be that the std deviation increases with the number of used folds $L$, because the test set is smaller.\n",
    "\n",
    "But why does the error increase with the number of folds?"
   ]
  },
  {
   "cell_type": "code",
   "execution_count": null,
   "metadata": {},
   "outputs": [],
   "source": []
  }
 ],
 "metadata": {
  "kernelspec": {
   "display_name": "Python 3",
   "language": "python",
   "name": "python3"
  },
  "language_info": {
   "codemirror_mode": {
    "name": "ipython",
    "version": 3
   },
   "file_extension": ".py",
   "mimetype": "text/x-python",
   "name": "python",
   "nbconvert_exporter": "python",
   "pygments_lexer": "ipython3",
   "version": "3.6.5"
  }
 },
 "nbformat": 4,
 "nbformat_minor": 2
}
