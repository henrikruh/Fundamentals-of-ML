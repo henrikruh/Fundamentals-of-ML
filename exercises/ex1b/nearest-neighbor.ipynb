{
 "cells": [
  {
   "cell_type": "markdown",
   "metadata": {},
   "source": [
    "# Nr. 2: Asymptotoc local error for NN classifier\n",
    "\n",
    "Our toy model:\n",
    "- #of classes $C = 2$\n",
    "- data =  (features, labels) = $(X, Y)\\in([0,1]\\times \\{0,1\\})$ \n",
    "- feature density $p(x) = 1$\n",
    "- posteriors: $p(Y=0|x)= 1-x$ and $p(Y=1|x) = x$\n",
    "\n",
    "The Gini impurity is given by: \\begin{align*}\n",
    "p_{\\infty}(error|x) &= 1 - \\sum_{k=1}^C p(Y=k|x)² \\\\\n",
    "&= 1 - [ (1-x)^2 + x^2] \\\\\n",
    "&= 2 (x - x²)\n",
    "\\end{align*}\n",
    "\n",
    "The total error yields therefor: \\begin{align*}\n",
    "p_{\\infty}(error) &= \\int_{[0,1]} p_{\\infty}(error|x) p(x) \\text{d}x \\\\\n",
    "&= 2 \\int_0^1 (x - x²) \\cdot 1 \\text{d}x \\\\\n",
    "&= (x² - \\frac{2}{3} x³)  \\mid_0^1 \\\\\n",
    "&= \\frac{1}{3}\n",
    "\\end{align*}\n"
   ]
  },
  {
   "cell_type": "code",
   "execution_count": null,
   "metadata": {},
   "outputs": [],
   "source": []
  }
 ],
 "metadata": {
  "kernelspec": {
   "display_name": "Python 3",
   "language": "python",
   "name": "python3"
  },
  "language_info": {
   "codemirror_mode": {
    "name": "ipython",
    "version": 3
   },
   "file_extension": ".py",
   "mimetype": "text/x-python",
   "name": "python",
   "nbconvert_exporter": "python",
   "pygments_lexer": "ipython3",
   "version": "3.6.5"
  }
 },
 "nbformat": 4,
 "nbformat_minor": 2
}
