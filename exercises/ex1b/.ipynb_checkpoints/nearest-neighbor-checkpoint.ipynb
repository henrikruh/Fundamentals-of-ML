{
 "cells": [
  {
   "cell_type": "markdown",
   "metadata": {},
   "source": [
    "# 3 Nearest Neighbor Classification on Real Data\n",
    "## 3.1 Exploring the Data"
   ]
  },
  {
   "cell_type": "code",
   "execution_count": 94,
   "metadata": {},
   "outputs": [],
   "source": [
    "# imports\n",
    "import numpy as np\n",
    "import matplotlib.pyplot as plt\n",
    "from sklearn.datasets import load_digits\n",
    "from sklearn import model_selection\n",
    "from sklearn.neighbors import KNeighborsClassifier as knn2\n",
    "import pandas as pd"
   ]
  },
  {
   "cell_type": "code",
   "execution_count": 2,
   "metadata": {},
   "outputs": [
    {
     "name": "stdout",
     "output_type": "stream",
     "text": [
      "dict_keys(['data', 'target', 'target_names', 'images', 'DESCR'])\n",
      "float64\n"
     ]
    }
   ],
   "source": [
    "digits = load_digits()\n",
    "print ( digits.keys())\n",
    "\n",
    "data = digits[\"data\"]\n",
    "images = digits[\"images\"]\n",
    "target = digits[\"target\"]\n",
    "target_names = digits[\"target_names\"]\n",
    "\n",
    "print ( data.dtype )"
   ]
  },
  {
   "cell_type": "code",
   "execution_count": 7,
   "metadata": {},
   "outputs": [
    {
     "data": {
      "image/png": "[encoded data removed]",
      "text/plain": [
       "<Figure size 432x288 with 1 Axes>"
      ]
     },
     "metadata": {},
     "output_type": "display_data"
    },
    {
     "data": {
      "image/png": "[encoded data removed]",
      "text/plain": [
       "<Figure size 432x288 with 1 Axes>"
      ]
     },
     "metadata": {},
     "output_type": "display_data"
    }
   ],
   "source": [
    "img = images[np.where(target==3)[0][0]]\n",
    "assert 2 == len(img.shape)\n",
    "plt.figure()\n",
    "plt.gray()\n",
    "plt.imshow(img , interpolation =\"nearest\") # also try interpolation =\" bicubic \"\n",
    "plt.title('interpolation =\"nearest\"')\n",
    "plt.show()\n",
    "\n",
    "plt.figure()\n",
    "plt.gray()\n",
    "plt.imshow(img , interpolation =\"bicubic\") # also try interpolation =\" bicubic \"\n",
    "plt.title('interpolation =\"bicubic\"')\n",
    "plt.show()"
   ]
  },
  {
   "cell_type": "code",
   "execution_count": 4,
   "metadata": {},
   "outputs": [],
   "source": [
    "X_all = data\n",
    "y_all = target\n",
    "X_train , X_test , y_train , y_test =\\\n",
    "model_selection.train_test_split( digits.data , digits.target , test_size = 0.4 , random_state = 0)"
   ]
  },
  {
   "cell_type": "markdown",
   "metadata": {},
   "source": [
    "## 3.2 Distance function computation using loops"
   ]
  },
  {
   "cell_type": "code",
   "execution_count": 5,
   "metadata": {},
   "outputs": [],
   "source": [
    "def euclidian_dist(u,v):\n",
    "    # computes euclidean distance between two points\n",
    "    return np.sqrt(np.sum(np.square(u-v)))\n",
    "\n",
    "def dist_loop(training,test):\n",
    "    N = len(training)\n",
    "    M = len(test)\n",
    "    \n",
    "    dist_N = []\n",
    "    dist_M = []\n",
    "\n",
    "    for i in range(N):\n",
    "        dist_M = []      \n",
    "        for j in range(M):\n",
    "            dist_M.append(euclidian_dist(training[i],test[j]))\n",
    "        dist_N.append(dist_M)\n",
    "        \n",
    "    return dist_N"
   ]
  },
  {
   "cell_type": "code",
   "execution_count": 8,
   "metadata": {},
   "outputs": [
    {
     "name": "stdout",
     "output_type": "stream",
     "text": [
      "1078 719\n",
      "(1078, 719)\n"
     ]
    }
   ],
   "source": [
    "D_loop = dist_loop(X_train,X_test)\n",
    "print(len(X_train),len(X_test))\n",
    "print(np.shape(D_loop))"
   ]
  },
  {
   "cell_type": "markdown",
   "metadata": {},
   "source": [
    "## 3.3 Distance function computation using vectorization"
   ]
  },
  {
   "cell_type": "code",
   "execution_count": 9,
   "metadata": {},
   "outputs": [],
   "source": [
    "# def new fct\n",
    "def dist_vec(training,test):\n",
    "    N = len(training)\n",
    "    M = len(test)\n",
    "    \n",
    "    # create grid with indices a and b such that all distances\n",
    "    # distance = absolute ( training_a - test_b )\n",
    "    # between the data points can be computed\n",
    "    a,b = np.mgrid[:N,:M]\n",
    "    \n",
    "    # directly return distances\n",
    "    return np.sqrt(np.sum(np.square(training[a]-test[b]),axis=2))"
   ]
  },
  {
   "cell_type": "code",
   "execution_count": 10,
   "metadata": {},
   "outputs": [
    {
     "name": "stdout",
     "output_type": "stream",
     "text": [
      "1078 719\n",
      "(1078, 719)\n"
     ]
    }
   ],
   "source": [
    "# test new fct\n",
    "D_vec = dist_vec(X_train,X_test)\n",
    "\n",
    "print(len(X_train),len(X_test))\n",
    "print(np.shape(D_vec))"
   ]
  },
  {
   "cell_type": "code",
   "execution_count": 11,
   "metadata": {},
   "outputs": [
    {
     "name": "stdout",
     "output_type": "stream",
     "text": [
      "[]\n"
     ]
    }
   ],
   "source": [
    "# compare vectorized with loop entries\n",
    "print(np.where(np.abs(D_vec-D_loop)>1e-6)[0])"
   ]
  },
  {
   "cell_type": "code",
   "execution_count": 12,
   "metadata": {},
   "outputs": [
    {
     "name": "stdout",
     "output_type": "stream",
     "text": [
      "dist_loop\n",
      "15 s ± 507 ms per loop (mean ± std. dev. of 7 runs, 1 loop each)\n",
      "dist_vec\n",
      "1.58 s ± 78.4 ms per loop (mean ± std. dev. of 7 runs, 1 loop each)\n"
     ]
    }
   ],
   "source": [
    "# compare vectorized with loop computation time\n",
    "print('dist_loop')\n",
    "%timeit dist_loop(X_train,X_test)\n",
    "\n",
    "print('dist_vec')\n",
    "%timeit dist_vec(X_train,X_test)"
   ]
  },
  {
   "cell_type": "markdown",
   "metadata": {},
   "source": [
    "## 3.4 Implement the k-nearest neighbor classi\u001c",
    "er"
   ]
  },
  {
   "cell_type": "code",
   "execution_count": 13,
   "metadata": {},
   "outputs": [],
   "source": [
    "# implement NN \n",
    "def k_nearest_neighbor(k,features,training_set):\n",
    "\n",
    "    # compute distances and give indices sorted by distances\n",
    "    knn = np.argsort(dist_vec(features,training_set[0]))[:,:k]\n",
    "    \n",
    "    # use the k entries with smallest distance,\n",
    "    # take their labels and bin them,\n",
    "    # the index of the most frequent bin is equal to the most frequent label\n",
    "    # asign this label to the label of the feature\n",
    "    labels = [np.argmax(y) for y in [np.bincount(x) for x in training_set[1][knn]]]\n",
    "    \n",
    "    return labels\n",
    "\n",
    "# define error rate function\n",
    "def p_err (predicted,true_label):\n",
    "    return len(np.where(predicted!=true_label)[0])*len(predicted)**-1"
   ]
  },
  {
   "cell_type": "code",
   "execution_count": 14,
   "metadata": {},
   "outputs": [],
   "source": [
    "# filter out indices where 3 or 9\n",
    "ind_test = np.where((y_test == 3) | (y_test == 9))\n",
    "ind_train = np.where((y_train == 3) | (y_train == 9))"
   ]
  },
  {
   "cell_type": "code",
   "execution_count": 15,
   "metadata": {},
   "outputs": [],
   "source": [
    "# apply knn classifier\n",
    "K = [1,3,5,9,17,33]\n",
    "y_pred = [k_nearest_neighbor(k,X_test[ind_test],[X_train[ind_train],y_train[ind_train]]) for k in K]\n",
    "\n",
    "err = [p_err(y,y_test[ind_test]) for y in y_pred] "
   ]
  },
  {
   "cell_type": "code",
   "execution_count": 46,
   "metadata": {},
   "outputs": [
    {
     "data": {
      "text/html": [
       "<style  type=\"text/css\" >\n",
       "</style>  \n",
       "<table id=\"T_e9e54acc_e060_11e8_be98_a0b3cc2205be\" > \n",
       "<thead>    <tr> \n",
       "        <th class=\"blank level0\" ></th> \n",
       "        <th class=\"col_heading level0 col0\" >0</th> \n",
       "        <th class=\"col_heading level0 col1\" >1</th> \n",
       "        <th class=\"col_heading level0 col2\" >2</th> \n",
       "        <th class=\"col_heading level0 col3\" >3</th> \n",
       "        <th class=\"col_heading level0 col4\" >4</th> \n",
       "        <th class=\"col_heading level0 col5\" >5</th> \n",
       "    </tr></thead> \n",
       "<tbody>    <tr> \n",
       "        <th id=\"T_e9e54acc_e060_11e8_be98_a0b3cc2205belevel0_row0\" class=\"row_heading level0 row0\" >K</th> \n",
       "        <td id=\"T_e9e54acc_e060_11e8_be98_a0b3cc2205berow0_col0\" class=\"data row0 col0\" >1</td> \n",
       "        <td id=\"T_e9e54acc_e060_11e8_be98_a0b3cc2205berow0_col1\" class=\"data row0 col1\" >3</td> \n",
       "        <td id=\"T_e9e54acc_e060_11e8_be98_a0b3cc2205berow0_col2\" class=\"data row0 col2\" >5</td> \n",
       "        <td id=\"T_e9e54acc_e060_11e8_be98_a0b3cc2205berow0_col3\" class=\"data row0 col3\" >9</td> \n",
       "        <td id=\"T_e9e54acc_e060_11e8_be98_a0b3cc2205berow0_col4\" class=\"data row0 col4\" >17</td> \n",
       "        <td id=\"T_e9e54acc_e060_11e8_be98_a0b3cc2205berow0_col5\" class=\"data row0 col5\" >33</td> \n",
       "    </tr>    <tr> \n",
       "        <th id=\"T_e9e54acc_e060_11e8_be98_a0b3cc2205belevel0_row1\" class=\"row_heading level0 row1\" >err</th> \n",
       "        <td id=\"T_e9e54acc_e060_11e8_be98_a0b3cc2205berow1_col0\" class=\"data row1 col0\" >0.0138889</td> \n",
       "        <td id=\"T_e9e54acc_e060_11e8_be98_a0b3cc2205berow1_col1\" class=\"data row1 col1\" >0.00694444</td> \n",
       "        <td id=\"T_e9e54acc_e060_11e8_be98_a0b3cc2205berow1_col2\" class=\"data row1 col2\" >0.00694444</td> \n",
       "        <td id=\"T_e9e54acc_e060_11e8_be98_a0b3cc2205berow1_col3\" class=\"data row1 col3\" >0.00694444</td> \n",
       "        <td id=\"T_e9e54acc_e060_11e8_be98_a0b3cc2205berow1_col4\" class=\"data row1 col4\" >0.00694444</td> \n",
       "        <td id=\"T_e9e54acc_e060_11e8_be98_a0b3cc2205berow1_col5\" class=\"data row1 col5\" >0.0208333</td> \n",
       "    </tr></tbody> \n",
       "</table> "
      ],
      "text/plain": [
       "<pandas.io.formats.style.Styler at 0x2103373af28>"
      ]
     },
     "execution_count": 46,
     "metadata": {},
     "output_type": "execute_result"
    }
   ],
   "source": [
    "# table displaying the results\n",
    "pd.DataFrame([K,err],['K','err']).style"
   ]
  },
  {
   "cell_type": "code",
   "execution_count": 51,
   "metadata": {},
   "outputs": [
    {
     "name": "stdout",
     "output_type": "stream",
     "text": [
      "errpr rate is minimal for k = 3\n"
     ]
    },
    {
     "data": {
      "image/png": "[encoded data removed]",
      "text/plain": [
       "<Figure size 864x288 with 1 Axes>"
      ]
     },
     "metadata": {},
     "output_type": "display_data"
    }
   ],
   "source": [
    "# plot results\n",
    "plt.figure(figsize=(12,4))\n",
    "\n",
    "plt.scatter(K,err,s=100,facecolor='None',edgecolors='b')\n",
    "\n",
    "plt.grid()\n",
    "plt.ylabel('error rate')\n",
    "plt.xlabel('k')\n",
    "plt.title('error rate')\n",
    "\n",
    "print('errpr rate is minimal for k =',K[np.argmin(err)])"
   ]
  },
  {
   "cell_type": "markdown",
   "metadata": {},
   "source": [
    "The error rate is minimal with a value of approximately $0.7 \\%$ between $k = 3$ and $k = 17$. It increases significantly for $k = 33$, and is also larger for $k=1$. Appearently, taking to many neighbors into account averages out some of the uniqueness of the features, which results in a larger error rate."
   ]
  },
  {
   "cell_type": "markdown",
   "metadata": {},
   "source": [
    "## 4 Cross-validation"
   ]
  },
  {
   "cell_type": "code",
   "execution_count": 112,
   "metadata": {},
   "outputs": [],
   "source": [
    "# define splitting function\n",
    "def split_folds(data, target, L):\n",
    "    N = len(data)\n",
    "    \n",
    "    # randomly arange indices\n",
    "    rand_ind = np.random.permutation(N)\n",
    "    \n",
    "    # split into L folds\n",
    "    folds_ind = np.array_split(rand_ind, L)\n",
    "    \n",
    "    return [data[i] for i in folds_ind], [target[i] for i in folds_ind]"
   ]
  },
  {
   "cell_type": "code",
   "execution_count": 121,
   "metadata": {},
   "outputs": [],
   "source": [
    "# define parameter range\n",
    "L_lst = [2,5,10]\n",
    "k_lst = [1,15]\n",
    "\n",
    "# create empty lists\n",
    "mean_err_c1 = []\n",
    "std_err_c1 = []\n",
    "\n",
    "mean_err_c2 = []\n",
    "std_err_c2 = []\n",
    "\n",
    "for i in range(len(L_lst)):\n",
    "    \n",
    "    # split data set\n",
    "    X_folds, y_folds = split_folds(data, target, L)\n",
    "    \n",
    "    # apply classifier 1\n",
    "    err = [[[p_err(k_nearest_neighbor(k,X_folds[j],[X_folds[l], y_folds[l]]),y_folds[j]) \n",
    "            for l in np.where(range(len(X_folds))!=j)[0]] \n",
    "            for j in range(len(X_folds))] \n",
    "            for k in k_lst]\n",
    "    \n",
    "    # compute mean and std for classifier 1\n",
    "    mean_err_c1.append(np.mean(err,axis=1))\n",
    "    std_err_c1.append(np.std(err,axis=1))\n",
    "    \n",
    "    # apply classifier 2\n",
    "    err = []\n",
    "    for k in k_lst:\n",
    "        for j in range(len(X_folds)):\n",
    "            for l in np.where(range(len(X_folds))!=j)[0]:\n",
    "                # initiate\n",
    "                classifier = knn2(n_neighbors=k)\n",
    "                classifier.fit(X_folds[l], y_folds[l])\n",
    "                err.append(p_err(classifier.predict(X_folds[j]), y_folds[j]))\n",
    "    \n",
    "    # compute mean and std for classifier 2\n",
    "    err = np.array(err).reshape([2,len(X_folds)])\n",
    "    mean_err_c2.append(np.mean(err,axis=1))\n",
    "    std_err_c2.append(np.std(err,axis=1))    \n",
    "\n",
    "# list -> numpy array for better slicing\n",
    "mean_err_c1 = np.array(mean_err_c1)\n",
    "std_err_c1 = np.array(std_err_c1)\n",
    "\n",
    "mean_err_c2 = np.array(mean_err_c2)\n",
    "std_err_c2 = np.array(std_err_c2)\n"
   ]
  },
  {
   "cell_type": "code",
   "execution_count": 120,
   "metadata": {},
   "outputs": [
    {
     "data": {
      "text/plain": [
       "Text(0.5,0,'L')"
      ]
     },
     "execution_count": 120,
     "metadata": {},
     "output_type": "execute_result"
    },
    {
     "data": {
      "image/png": "[encoded data removed]",
      "text/plain": [
       "<Figure size 864x288 with 1 Axes>"
      ]
     },
     "metadata": {},
     "output_type": "display_data"
    },
    {
     "data": {
      "image/png": "[encoded data removed]",
      "text/plain": [
       "<Figure size 864x288 with 1 Axes>"
      ]
     },
     "metadata": {},
     "output_type": "display_data"
    }
   ],
   "source": [
    "# plot results\n",
    "\n",
    "# classifier 1\n",
    "plt.figure(figsize=(12,4))\n",
    "\n",
    "plt.title('classifier 1')\n",
    "plt.errorbar(L_lst,mean_err_c1[:,0],yerr=std_err_c1[:,0],color='b',elinewidth=2,capsize=10,fmt='o-', label = 'k = 1')\n",
    "plt.errorbar(L_lst,mean_err_c1[:,1],yerr=std_err_c1[:,1],color='darkblue',elinewidth=2,capsize=10,fmt='o--', label = 'k = 5')\n",
    "\n",
    "plt.grid()\n",
    "plt.legend()\n",
    "plt.ylabel('error rate')\n",
    "plt.xlabel('L')\n",
    "\n",
    "# classifier 2\n",
    "plt.figure(figsize=(12,4))\n",
    "\n",
    "plt.title('classifier 2')\n",
    "plt.errorbar(L_lst,mean_err_c2[:,0],yerr=std_err_c2[:,0],color='r',elinewidth=2,capsize=10,fmt='o-', label = 'k = 1')\n",
    "plt.errorbar(L_lst,mean_err_c2[:,1],yerr=std_err_c2[:,1],color='darkred',elinewidth=2,capsize=10,fmt='o--', label = 'k = 15')\n",
    "\n",
    "plt.grid()\n",
    "plt.legend()\n",
    "plt.ylabel('error rate')\n",
    "plt.xlabel('L')"
   ]
  },
  {
   "cell_type": "markdown",
   "metadata": {},
   "source": [
    "Classifier 1 (this implementation) and classifier 2 (sklearn) both give the same result  as should be expected. The error rates are larger for $k=15$ than for $k=1$. The standard devation of the error rate decreases with increasing $L$."
   ]
  }
 ],
 "metadata": {
  "kernelspec": {
   "display_name": "Python 3",
   "language": "python",
   "name": "python3"
  },
  "language_info": {
   "codemirror_mode": {
    "name": "ipython",
    "version": 3
   },
   "file_extension": ".py",
   "mimetype": "text/x-python",
   "name": "python",
   "nbconvert_exporter": "python",
   "pygments_lexer": "ipython3",
   "version": "3.6.5"
  }
 },
 "nbformat": 4,
 "nbformat_minor": 2
}
