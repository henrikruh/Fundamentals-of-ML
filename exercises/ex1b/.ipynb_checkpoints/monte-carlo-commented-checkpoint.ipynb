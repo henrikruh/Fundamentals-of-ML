{
 "cells": [
  {
   "cell_type": "markdown",
   "metadata": {},
   "source": [
    "# 1 Monte-Carlo Simulation"
   ]
  },
  {
   "cell_type": "code",
   "execution_count": 2,
   "metadata": {},
   "outputs": [],
   "source": [
    "# imports\n",
    "\n",
    "import numpy as np\n",
    "import matplotlib as mpl\n",
    "import matplotlib.pylab as plt\n",
    "import sklearn"
   ]
  },
  {
   "cell_type": "markdown",
   "metadata": {},
   "source": [
    "## 1.1 Data Creation and Visualization\n",
    "\n",
    "We draw N instance labels Y according to prior probabilities:\n",
    "\n",
    "$ p(Y=0) = 0.5 \\\\ p(Y=1)=0.5$\n",
    "\n",
    "In order to sample the features X, we calculate the inverse transformation from the integrated likelihood functions (gives a cumulative probability distribution function).\n",
    "\n",
    "Inverse transform for Y = 0, Y = 1 resp.\n",
    "\n",
    "$F_0^{-1}(u) = 1 - \\sqrt{1-u}$\n",
    "\n",
    "$F_1^{-1}(u) = \\sqrt{u}$\n",
    "\n",
    "\n",
    "<span style =\" color : green ;font - weight : bold \">\n",
    "This is equal. The integration is described in th text."
   ]
  },
  {
   "cell_type": "code",
   "execution_count": 3,
   "metadata": {},
   "outputs": [],
   "source": [
    "# set number of gerenrated data\n",
    "N = 10000\n",
    "\n",
    "p = 0.5 #prior prob for label Y=0\n",
    "\n",
    "# This is the inverse transform\n",
    "def inv_trafo(label):\n",
    "    if label==0:\n",
    "        f = 1 - np.sqrt(1 - np.random.random()) \n",
    "        #draw a random number from uniform distribution in [0,1)\n",
    "    else:\n",
    "        f = np.sqrt(np.random.random())\n",
    "    return f\n",
    "\n",
    "def create_data(Num):\n",
    "    labels = np.append(np.zeros(int(Num*p)),np.ones(int(Num*(1-p))))\n",
    "    get_feature = np.vectorize(inv_trafo) #vectorize function\n",
    "    features = get_feature(labels)\n",
    "    return features, labels"
   ]
  },
  {
   "cell_type": "markdown",
   "metadata": {},
   "source": [
    "<span style =\" color : green ;font - weight : bold \">\n",
    "Main difference is creation of the labels array, which is purposely half ones and half zeros, in contrast to the random generation in the official solution. "
   ]
  },
  {
   "cell_type": "code",
   "execution_count": 4,
   "metadata": {},
   "outputs": [
    {
     "data": {
      "image/png": "[encoded data removed]",
      "text/plain": [
       "<Figure size 432x288 with 1 Axes>"
      ]
     },
     "metadata": {},
     "output_type": "display_data"
    }
   ],
   "source": [
    "features, labels = create_data(N)\n",
    "\n",
    "\n",
    "plt.hist(features, bins=10)\n",
    "plt.title(\"Feature Histogram with 10 bins\")\n",
    "plt.show()"
   ]
  },
  {
   "cell_type": "markdown",
   "metadata": {},
   "source": [
    "<span style =\" color : green ;font - weight : bold \">\n",
    "Does not split between the two rules, only shows both toghether. Also does not show that both labels have the same probability."
   ]
  },
  {
   "cell_type": "code",
   "execution_count": 12,
   "metadata": {},
   "outputs": [
    {
     "data": {
      "image/png": "[encoded data removed]",
      "text/plain": [
       "<Figure size 432x288 with 1 Axes>"
      ]
     },
     "metadata": {},
     "output_type": "display_data"
    }
   ],
   "source": [
    "plt.hist(labels, cumulative=True, bins=2)\n",
    "plt.title(\"Cumulative Label Histogram\")\n",
    "plt.show()"
   ]
  },
  {
   "cell_type": "markdown",
   "metadata": {},
   "source": [
    "<span style =\" color : green ;font - weight : bold \">\n",
    "Sparse binning of cumulative distribution function only for one of the two rules."
   ]
  },
  {
   "cell_type": "markdown",
   "metadata": {},
   "source": [
    "## 1.2 Classifcation by Thresholding"
   ]
  },
  {
   "cell_type": "code",
   "execution_count": 22,
   "metadata": {},
   "outputs": [],
   "source": [
    "# seperately define data generating function\n",
    "def create_data(N):\n",
    "    \n",
    "    # first, draw labels from {0,1} with prior probability 0.5\n",
    "    labels = np.random.randint(0,2,N)\n",
    "\n",
    "    # sample features\n",
    "    # draw N numbers from uniform distribution\n",
    "    U = np.random.rand(N)\n",
    "    features = np.ones(N)\n",
    "\n",
    "    for i in range(N):\n",
    "        # for N samples\n",
    "        if labels[i] == 0:\n",
    "            # if the label Y equals 0 sample according to the first likelihood\n",
    "            # therefore transform uniform random numbers\n",
    "            features[i] = 1-(1-U[i])**0.5\n",
    "        else:\n",
    "            # if the label Y equals 1 sample according to the second likelihood\n",
    "            features[i] = U[i]**0.5 \n",
    "\n",
    "    return features, labels"
   ]
  },
  {
   "cell_type": "markdown",
   "metadata": {},
   "source": [
    "<span style =\" color : green ;font - weight : bold \">\n",
    "Redefinition of the create_data because of merging of solutions. Identical to official solution."
   ]
  },
  {
   "cell_type": "code",
   "execution_count": null,
   "metadata": {},
   "outputs": [],
   "source": [
    "# define parameter space\n",
    "x_t_lst = [0.2,0.5,0.6]\n",
    "M = [int(10**i) for i in np.arange(1,4.5,0.5)]\n",
    "\n",
    "# define rules\n",
    "def f_A (x,x_t): \n",
    "    if x < x_t:\n",
    "        y = 0\n",
    "    else:\n",
    "        y = 1\n",
    "    return y\n",
    "\n",
    "def f_B (x,x_t): \n",
    "    if x < x_t:\n",
    "        y = 1\n",
    "    else:\n",
    "        y = 0\n",
    "    return y\n",
    "\n",
    "f_C = np.random.randint(0,2)\n",
    "\n",
    "f_D = 1\n",
    "\n",
    "\n",
    "# define error rate function\n",
    "def p_err (predicted,true_label):\n",
    "    return len(np.where(predicted!=true_label)[0])*len(predicted)**-1\n",
    "\n",
    "# generate test sets\n",
    "test_sets = [[create_data(m) for i in range(10)] for m in M]\n",
    "\n",
    "# compute error rates of test sets\n",
    "p_err_A = [[[p_err([f_A(t,x_t) for t in test_set[0]],test_set[1]) \n",
    "            for test_set in sets_M] \n",
    "            for sets_M in test_sets]\n",
    "            for x_t in x_t_lst]\n",
    "p_err_A = [np.mean(p_err_A,axis=2),np.std(p_err_A,axis=2)]\n",
    "\n",
    "p_err_B = [[[p_err([f_B(t,x_t) for t in test_set[0]],test_set[1]) \n",
    "            for test_set in sets_M] \n",
    "            for sets_M in test_sets]\n",
    "            for x_t in x_t_lst]\n",
    "p_err_B = [np.mean(p_err_B,axis=2),np.std(p_err_B,axis=2)]\n",
    "\n",
    "p_err_C = [[p_err([f_C for t in test_set[0]],test_set[1]) \n",
    "            for test_set in sets_M] \n",
    "            for sets_M in test_sets]\n",
    "p_err_C = [np.mean(p_err_C,axis=1),np.std(p_err_C,axis=1)]\n",
    "\n",
    "p_err_D = [[p_err([f_D for t in test_set[0]],test_set[1]) \n",
    "            for test_set in sets_M] \n",
    "            for sets_M in test_sets]\n",
    "p_err_D = [np.mean(p_err_D,axis=1),np.std(p_err_D,axis=1)]"
   ]
  },
  {
   "cell_type": "markdown",
   "metadata": {},
   "source": [
    "<span style =\" color : green ;font - weight : bold \">\n",
    "Created data only ones for all runs, which might be more efficient. Nesting of list might be harder to follow than classical for loops. No functions for predicted error rates. Do not show results in table but in plots. Added further datapoints in M."
   ]
  },
  {
   "cell_type": "code",
   "execution_count": 17,
   "metadata": {},
   "outputs": [
    {
     "data": {
      "text/plain": [
       "Text(0.5,1,'error rate for rule D')"
      ]
     },
     "execution_count": 17,
     "metadata": {},
     "output_type": "execute_result"
    },
    {
     "data": {
      "image/png": "[encoded data removed]",
      "text/plain": [
       "<Figure size 864x288 with 1 Axes>"
      ]
     },
     "metadata": {},
     "output_type": "display_data"
    },
    {
     "data": {
      "image/png": "[encoded data removed]",
      "text/plain": [
       "<Figure size 864x288 with 1 Axes>"
      ]
     },
     "metadata": {},
     "output_type": "display_data"
    },
    {
     "data": {
      "image/png": "[encoded data removed]",
      "text/plain": [
       "<Figure size 864x288 with 1 Axes>"
      ]
     },
     "metadata": {},
     "output_type": "display_data"
    },
    {
     "data": {
      "image/png": "[encoded data removed]",
      "text/plain": [
       "<Figure size 864x288 with 1 Axes>"
      ]
     },
     "metadata": {},
     "output_type": "display_data"
    }
   ],
   "source": [
    "# plotting of results\n",
    "\n",
    "# plot results rule A\n",
    "plt.figure(figsize=(12,4))\n",
    "plt.semilogx()\n",
    "\n",
    "for i in range(len(x_t_lst)):\n",
    "    plt.errorbar(M,p_err_A[0][i],yerr=p_err_A[1][i],elinewidth=2,capsize=10,fmt='o-', label = 'x_t = %0.1f'%x_t_lst[i])\n",
    "\n",
    "plt.grid()\n",
    "plt.legend()\n",
    "plt.ylabel('error rate')\n",
    "plt.xlabel('M')\n",
    "plt.title('error rate for rule A')\n",
    "\n",
    "# plot results rule B\n",
    "plt.figure(figsize=(12,4))\n",
    "plt.semilogx()\n",
    "\n",
    "for i in range(len(x_t_lst)):\n",
    "    plt.errorbar(M,p_err_B[0][i],yerr=p_err_B[1][i],elinewidth=2,capsize=10,fmt='o-', label = 'x_t = %0.1f'%x_t_lst[i])\n",
    "\n",
    "plt.grid()\n",
    "plt.legend()\n",
    "plt.ylabel('error rate')\n",
    "plt.xlabel('M')\n",
    "plt.title('error rate for rule B')\n",
    "\n",
    "# plot results rule C\n",
    "plt.figure(figsize=(12,4))\n",
    "plt.semilogx()\n",
    "\n",
    "plt.errorbar(M,p_err_C[0],yerr=p_err_C[1],elinewidth=2,capsize=10,fmt='o-')\n",
    "\n",
    "plt.grid()\n",
    "plt.ylabel('error rate')\n",
    "plt.xlabel('M')\n",
    "plt.title('error rate for rule C')\n",
    "\n",
    "# plot results rule D\n",
    "plt.figure(figsize=(12,4))\n",
    "plt.semilogx()\n",
    "\n",
    "plt.errorbar(M,p_err_D[0],yerr=p_err_D[1],elinewidth=2,capsize=10,fmt='o-')\n",
    "\n",
    "plt.grid()\n",
    "plt.ylabel('error rate')\n",
    "plt.xlabel('M')\n",
    "plt.title('error rate for rule D')"
   ]
  },
  {
   "cell_type": "markdown",
   "metadata": {},
   "source": [
    "<span style =\" color : green ;font - weight : bold \">\n",
    "Plots showing convergence for large M, but no plots were made showing explicitely the dependance of the error rate on the threshold."
   ]
  },
  {
   "cell_type": "markdown",
   "metadata": {},
   "source": [
    "The plots above show the error rates of the four rules. The standard deviation decreases with $1/\\sqrt{M}$.  The error rates converge for large number of monte carlo runs M. The error rates are in agreement with the predicted values. Rule C and D are independant of the treshold. Thus, just one line appears in the plot. As one would expect, both converge to an error rate of 0.5. Rule A arrives at the minimal error of 0.25 for $x_{\\mathrm{t}} = 0.5$.\n",
    "\n",
    "<span style =\" color : green ;font - weight : bold \">\n",
    "Did not explicitly show behaviour of standard deviation but described in text. Can also be seen in plots above."
   ]
  },
  {
   "cell_type": "markdown",
   "metadata": {},
   "source": [
    "## 1.3 Nearest Neighbor Classifcation"
   ]
  },
  {
   "cell_type": "code",
   "execution_count": null,
   "metadata": {},
   "outputs": [],
   "source": [
    "# implement NN \n",
    "def nearest_neighbor(features,training_set):\n",
    "\n",
    "    labels = np.ones(len(features))\n",
    "\n",
    "    for i in range(len(features)):\n",
    "        # for all x in the vector of new features\n",
    "        # compute the differences to all training features\n",
    "        # get the index of the minimal difference\n",
    "        # assign the label of the minimal distance to the new feature\n",
    "        labels[i] = training_set[1][np.argmin(np.abs(training_set[0] - features[i]))]\n",
    "        \n",
    "    return features,labels"
   ]
  },
  {
   "cell_type": "markdown",
   "metadata": {},
   "source": [
    "<span style =\" color : green ;font - weight : bold \">\n",
    "Returns features, which is not necessary. For loop could be avoided as numpy functions also work with arrays. Otherwise equal."
   ]
  },
  {
   "cell_type": "code",
   "execution_count": null,
   "metadata": {},
   "outputs": [],
   "source": [
    "# define rejection method function\n",
    "def rejection_method(training_set,N):\n",
    "    active_training_set = [[training_set[0][0]],[training_set[1][0]]]\n",
    "    i = 0 # index\n",
    "    n = 1 # size of active set\n",
    "    while n < N:\n",
    "        # active set size smaller requeired set size\n",
    "        \n",
    "        i = i+1\n",
    "        # we use NN to discrimate, as we can directly use the function for any N\n",
    "        predicted = nearest_neighbor([training_set[0][i]],active_training_set)[1]\n",
    "        \n",
    "        if predicted == training_set[1][i]:\n",
    "            # reject\n",
    "            do_nothing = 0\n",
    "        \n",
    "        else:\n",
    "            # append to active training set\n",
    "            active_training_set[0].append(training_set[0][i])\n",
    "            active_training_set[1].append(training_set[1][i])\n",
    "            \n",
    "            n = n+1    \n",
    "        \n",
    "    return active_training_set"
   ]
  },
  {
   "cell_type": "markdown",
   "metadata": {},
   "source": [
    "<span style =\" color : green ;font - weight : bold \">\n",
    "Use nn rection method to generate a balanced test set. This is different from the method used in the official solution, but fulfills the given task."
   ]
  },
  {
   "cell_type": "code",
   "execution_count": 20,
   "metadata": {},
   "outputs": [
    {
     "name": "stdout",
     "output_type": "stream",
     "text": [
      "===================================================================\n",
      "N = 2\n",
      "The mean error rate is 33.0 percent.\n",
      "The standard devation of the error rate is 14.6 percent.\n"
     ]
    }
   ],
   "source": [
    "# create dataset N=2\n",
    "training_sets = [create_data(1000) for i in range(100)]\n",
    "\n",
    "N = 2\n",
    "active_TSs = [rejection_method(TS,N) for TS in training_sets]\n",
    "\n",
    "# apply NN on test set\n",
    "test_set = create_data(1000)\n",
    "test_set_predictions = [nearest_neighbor(test_set[0],TS) for TS in active_TSs]\n",
    "\n",
    "# compute the mean error rate\n",
    "mean_p_err = np.mean([p_err(predictions[1],test_set[1]) for predictions in test_set_predictions])\n",
    "std_p_err = np.std([p_err(predictions[1],test_set[1]) for predictions in test_set_predictions])\n",
    "\n",
    "# print results\n",
    "print('===================================================================')\n",
    "print('N = 2')\n",
    "print('The mean error rate is %0.1f percent.'%(mean_p_err*100))\n",
    "print('The standard devation of the error rate is %0.1f percent.'%(std_p_err*100))"
   ]
  },
  {
   "cell_type": "markdown",
   "metadata": {},
   "source": [
    "<span style =\" color : green ;font - weight : bold \">\n",
    "Use rection already for N=2. Different method for computing error rates. Equal results."
   ]
  },
  {
   "cell_type": "code",
   "execution_count": null,
   "metadata": {},
   "outputs": [],
   "source": [
    "# create dataset N=100\n",
    "N = 100\n",
    "active_TSs = [rejection_method(TS,N) for TS in training_sets]\n",
    "\n",
    "# apply NN on test set\n",
    "test_set_predictions = [nearest_neighbor(test_set[0],TS) for TS in active_TSs]\n",
    "\n",
    "# compute the mean error rate\n",
    "mean_p_err = np.mean([p_err(predictions[1],test_set[1]) for predictions in test_set_predictions])\n",
    "std_p_err = np.std([p_err(predictions[1],test_set[1]) for predictions in test_set_predictions])\n",
    "\n",
    "# print results\n",
    "print('===================================================================')\n",
    "print('N = 100')\n",
    "print('The mean error rate is %0.1f percent.'%(mean_p_err*100))\n",
    "print('The standard devation of the error rate is %0.1f percent.'%(std_p_err*100))"
   ]
  },
  {
   "cell_type": "markdown",
   "metadata": {},
   "source": [
    "<span style =\" color : green ;font - weight : bold \">\n",
    "Equal results."
   ]
  },
  {
   "cell_type": "markdown",
   "metadata": {},
   "source": [
    "The predicted error rate of 35% is within the error of the monte carlo. For $N=100$, we also get an error rate within one $\\sigma$ to 35%, but with a smaller standard deviation than before.  "
   ]
  },
  {
   "cell_type": "code",
   "execution_count": null,
   "metadata": {},
   "outputs": [],
   "source": []
  }
 ],
 "metadata": {
  "kernelspec": {
   "display_name": "Python 3",
   "language": "python",
   "name": "python3"
  },
  "language_info": {
   "codemirror_mode": {
    "name": "ipython",
    "version": 3
   },
   "file_extension": ".py",
   "mimetype": "text/x-python",
   "name": "python",
   "nbconvert_exporter": "python",
   "pygments_lexer": "ipython3",
   "version": "3.6.5"
  }
 },
 "nbformat": 4,
 "nbformat_minor": 2
}
